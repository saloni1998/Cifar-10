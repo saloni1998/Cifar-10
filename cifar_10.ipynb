{
  "nbformat": 4,
  "nbformat_minor": 0,
  "metadata": {
    "colab": {
      "name": "cifar_10.ipynb",
      "version": "0.3.2",
      "views": {},
      "default_view": {},
      "provenance": []
    },
    "kernelspec": {
      "name": "python2",
      "display_name": "Python 2"
    },
    "accelerator": "GPU"
  },
  "cells": [
    {
      "metadata": {
        "id": "V6_XOFz1BrgA",
        "colab_type": "code",
        "colab": {
          "autoexec": {
            "startup": false,
            "wait_interval": 0
          },
          "base_uri": "https://localhost:8080/",
          "height": 217
        },
        "outputId": "50e6c419-41a4-47ca-db3d-4fd272c0ce62",
        "executionInfo": {
          "status": "ok",
          "timestamp": 1528688434193,
          "user_tz": -330,
          "elapsed": 38683,
          "user": {
            "displayName": "Saloni Jain",
            "photoUrl": "https://lh3.googleusercontent.com/a/default-user=s128",
            "userId": "104379084192678848103"
          }
        }
      },
      "cell_type": "code",
      "source": [
        "!apt-get install -y -qq software-properties-common python-software-properties module-init-tools\n",
        "!add-apt-repository -y ppa:alessandro-strada/ppa 2>&1 > /dev/null\n",
        "!apt-get update -qq 2>&1 > /dev/null\n",
        "!apt-get -y install -qq google-drive-ocamlfuse fuse\n",
        "from google.colab import auth\n",
        "auth.authenticate_user()\n",
        "from oauth2client.client import GoogleCredentials\n",
        "creds = GoogleCredentials.get_application_default()\n",
        "import getpass\n",
        "!google-drive-ocamlfuse -headless -id={creds.client_id} -secret={creds.client_secret} < /dev/null 2>&1 | grep URL\n",
        "vcode = getpass.getpass()\n",
        "!echo {vcode} | google-drive-ocamlfuse -headless -id={creds.client_id} -secret={creds.client_secret}\n",
        "\n",
        "!mkdir -p drive\n",
        "!google-drive-ocamlfuse drive"
      ],
      "execution_count": 2,
      "outputs": [
        {
          "output_type": "stream",
          "text": [
            "gpg: keybox '/tmp/tmpjye8btw_/pubring.gpg' created\n",
            "gpg: /tmp/tmpjye8btw_/trustdb.gpg: trustdb created\n",
            "gpg: key AD5F235DF639B041: public key \"Launchpad PPA for Alessandro Strada\" imported\n",
            "gpg: Total number processed: 1\n",
            "gpg:               imported: 1\n",
            "Warning: apt-key output should not be parsed (stdout is not a terminal)\n",
            "Please, open the following URL in a web browser: https://accounts.google.com/o/oauth2/auth?client_id=32555940559.apps.googleusercontent.com&redirect_uri=urn%3Aietf%3Awg%3Aoauth%3A2.0%3Aoob&scope=https%3A%2F%2Fwww.googleapis.com%2Fauth%2Fdrive&response_type=code&access_type=offline&approval_prompt=force\n",
            "··········\n",
            "Please, open the following URL in a web browser: https://accounts.google.com/o/oauth2/auth?client_id=32555940559.apps.googleusercontent.com&redirect_uri=urn%3Aietf%3Awg%3Aoauth%3A2.0%3Aoob&scope=https%3A%2F%2Fwww.googleapis.com%2Fauth%2Fdrive&response_type=code&access_type=offline&approval_prompt=force\n",
            "Please enter the verification code: Access token retrieved correctly.\n"
          ],
          "name": "stdout"
        }
      ]
    },
    {
      "metadata": {
        "id": "No6nZUgKIm9e",
        "colab_type": "code",
        "colab": {
          "autoexec": {
            "startup": false,
            "wait_interval": 0
          }
        }
      },
      "cell_type": "code",
      "source": [
        "folder='./drive/ML/Cifar-10/cifar-10-batches-py'"
      ],
      "execution_count": 0,
      "outputs": []
    },
    {
      "metadata": {
        "id": "SAUDVaYxJvLG",
        "colab_type": "code",
        "colab": {
          "autoexec": {
            "startup": false,
            "wait_interval": 0
          }
        }
      },
      "cell_type": "code",
      "source": [
        "import pandas as pd\n",
        "import numpy as np\n",
        "import os\n",
        "import pickle\n"
      ],
      "execution_count": 0,
      "outputs": []
    },
    {
      "metadata": {
        "id": "HmMvC9NUJ22g",
        "colab_type": "code",
        "colab": {
          "autoexec": {
            "startup": false,
            "wait_interval": 0
          }
        }
      },
      "cell_type": "code",
      "source": [
        "def unpickle(file):\n",
        "  \n",
        "  '''Load byte data from file'''\n",
        "  with open(file, 'rb') as f:\n",
        "    data = pickle.load(f)\n",
        "    return data\n",
        "\n",
        "\n",
        "def load_cifar10_data(data_dir):\n",
        "  '''Return train_data, train_labels, test_data, test_labels\n",
        "   The shape of data is 32 x 32 x3'''\n",
        "    \n",
        "  train_data = None\n",
        "  train_labels = []\n",
        "\n",
        "  for i in range(1, 6):\n",
        "    data_dic = unpickle(data_dir + \"/data_batch_{}\".format(i))\n",
        "    if i == 1:\n",
        "      train_data = data_dic['data']\n",
        "    else:\n",
        "      train_data = np.vstack((train_data, data_dic['data']))\n",
        "    train_labels += data_dic['labels']\n",
        "  test_data_dic = unpickle(data_dir + \"/test_batch\")\n",
        "  test_data = test_data_dic['data']\n",
        "  test_labels = test_data_dic['labels']\n",
        "\n",
        "  train_data = train_data.reshape((len(train_data), 3, 32, 32))\n",
        "  train_data = np.rollaxis(train_data, 1, 4)\n",
        "  train_labels = np.array(train_labels)\n",
        "\n",
        "  test_data = test_data.reshape((len(test_data), 3, 32, 32))\n",
        "  test_data = np.rollaxis(test_data, 1, 4)\n",
        "  test_labels = np.array(test_labels)\n",
        "\n",
        "  return train_data, train_labels, test_data, test_labels"
      ],
      "execution_count": 0,
      "outputs": []
    },
    {
      "metadata": {
        "id": "HtcDJYu4Qgk-",
        "colab_type": "code",
        "colab": {
          "autoexec": {
            "startup": false,
            "wait_interval": 0
          }
        }
      },
      "cell_type": "code",
      "source": [
        "train_data, train_labels, test_data, test_labels = load_cifar10_data(folder)\n"
      ],
      "execution_count": 0,
      "outputs": []
    },
    {
      "metadata": {
        "id": "ICO9vaN0Qg04",
        "colab_type": "code",
        "colab": {
          "autoexec": {
            "startup": false,
            "wait_interval": 0
          },
          "base_uri": "https://localhost:8080/",
          "height": 85
        },
        "outputId": "97fdd745-89de-4b51-d85c-81cba0aa8d91",
        "executionInfo": {
          "status": "ok",
          "timestamp": 1528688513224,
          "user_tz": -330,
          "elapsed": 1184,
          "user": {
            "displayName": "Saloni Jain",
            "photoUrl": "https://lh3.googleusercontent.com/a/default-user=s128",
            "userId": "104379084192678848103"
          }
        }
      },
      "cell_type": "code",
      "source": [
        "print(train_data.shape)\n",
        "print(train_labels.shape)\n",
        "\n",
        "print(test_data.shape)\n",
        "print(test_labels.shape)\n"
      ],
      "execution_count": 7,
      "outputs": [
        {
          "output_type": "stream",
          "text": [
            "(50000, 32, 32, 3)\n",
            "(50000,)\n",
            "(10000, 32, 32, 3)\n",
            "(10000,)\n"
          ],
          "name": "stdout"
        }
      ]
    },
    {
      "metadata": {
        "id": "3ILHh829UwAk",
        "colab_type": "code",
        "colab": {
          "autoexec": {
            "startup": false,
            "wait_interval": 0
          },
          "base_uri": "https://localhost:8080/",
          "height": 34
        },
        "outputId": "dad4c585-6255-4da6-bf3e-985cf8bd4a51",
        "executionInfo": {
          "status": "ok",
          "timestamp": 1528688521912,
          "user_tz": -330,
          "elapsed": 8018,
          "user": {
            "displayName": "Saloni Jain",
            "photoUrl": "https://lh3.googleusercontent.com/a/default-user=s128",
            "userId": "104379084192678848103"
          }
        }
      },
      "cell_type": "code",
      "source": [
        "import keras"
      ],
      "execution_count": 8,
      "outputs": [
        {
          "output_type": "stream",
          "text": [
            "Using TensorFlow backend.\n"
          ],
          "name": "stderr"
        }
      ]
    },
    {
      "metadata": {
        "id": "ltr9SdHFQ-JZ",
        "colab_type": "code",
        "colab": {
          "autoexec": {
            "startup": false,
            "wait_interval": 0
          }
        }
      },
      "cell_type": "code",
      "source": [
        "y_train=np.asarray(train_labels).reshape(-1,1)\n",
        "y_train=keras.utils.to_categorical(y_train,num_classes=10)\n",
        "\n",
        "y_test=np.asarray(test_labels).reshape(-1,1)\n",
        "y_test=keras.utils.to_categorical(y_test,num_classes=10)\n",
        "\n"
      ],
      "execution_count": 0,
      "outputs": []
    },
    {
      "metadata": {
        "id": "HZ_Z-7fGdM4j",
        "colab_type": "code",
        "colab": {
          "autoexec": {
            "startup": false,
            "wait_interval": 0
          }
        }
      },
      "cell_type": "code",
      "source": [
        "x_train=train_data.astype('float')\n",
        "x_test=test_data.astype('float')\n",
        "x_train/=255.0\n",
        "x_test/=255.0"
      ],
      "execution_count": 0,
      "outputs": []
    },
    {
      "metadata": {
        "id": "GyXTvUnBUBSo",
        "colab_type": "code",
        "colab": {
          "autoexec": {
            "startup": false,
            "wait_interval": 0
          }
        }
      },
      "cell_type": "code",
      "source": [
        "from keras.layers import Conv2D,MaxPooling2D,Dense,Flatten,Dropout,Input,AveragePooling2D,BatchNormalization,Activation,GlobalAveragePooling2D\n",
        "from keras.models import Model\n",
        "from keras.optimizers import SGD,Adam\n",
        "from keras.losses import binary_crossentropy,categorical_crossentropy\n",
        "from keras.preprocessing.image import ImageDataGenerator"
      ],
      "execution_count": 0,
      "outputs": []
    },
    {
      "metadata": {
        "id": "2-16pJ0XXwLO",
        "colab_type": "code",
        "colab": {
          "autoexec": {
            "startup": false,
            "wait_interval": 0
          },
          "base_uri": "https://localhost:8080/",
          "height": 81
        },
        "outputId": "f60b0d0e-07a8-4271-f3f7-a7dd89cfeb21",
        "executionInfo": {
          "status": "ok",
          "timestamp": 1528688533013,
          "user_tz": -330,
          "elapsed": 3203,
          "user": {
            "displayName": "Saloni Jain",
            "photoUrl": "https://lh3.googleusercontent.com/a/default-user=s128",
            "userId": "104379084192678848103"
          }
        }
      },
      "cell_type": "code",
      "source": [
        "datagen=ImageDataGenerator(featurewise_std_normalization=True,horizontal_flip=True)\n",
        "datagen.fit(x_train)\n",
        "train_gen=datagen.flow(x_train,y_train,batch_size=256,shuffle=True)\n",
        "test_gen=datagen.flow(x_test,y_test,batch_size=256,shuffle=True)"
      ],
      "execution_count": 12,
      "outputs": [
        {
          "output_type": "stream",
          "text": [
            "/usr/local/lib/python2.7/dist-packages/keras/preprocessing/image.py:657: UserWarning: This ImageDataGenerator specifies `featurewise_std_normalization`, which overrides setting of `featurewise_center`.\n",
            "  warnings.warn('This ImageDataGenerator specifies '\n"
          ],
          "name": "stderr"
        }
      ]
    },
    {
      "metadata": {
        "id": "fXnHn7iMa30S",
        "colab_type": "code",
        "colab": {
          "autoexec": {
            "startup": false,
            "wait_interval": 0
          }
        }
      },
      "cell_type": "code",
      "source": [
        "def residual_layer(y,channels,_strides=(1,1),project_shortcut=True):\n",
        "    shortcut=y\n",
        "    y=Conv2D(channels,kernel_size=(3,3),strides=_strides,activation='relu',padding='same')(y)\n",
        "    y=BatchNormalization()(y)\n",
        "    y=Activation('relu')(y)\n",
        "    \n",
        "    y=Conv2D(channels,kernel_size=(3,3),strides=(1,1),activation='relu',padding='same')(y)\n",
        "    y=BatchNormalization()(y)\n",
        "    y=Activation('relu')(y)\n",
        "    \n",
        "    if(_strides!=(1,1)):\n",
        "        shortcut=Conv2D(channels,kernel_size=(1,1),strides=_strides,activation='relu',padding='same')(shortcut)\n",
        "        shortcut=BatchNormalization()(shortcut)\n",
        "        \n",
        "    y=keras.layers.add([shortcut,y])\n",
        "    y=Activation('relu')(y)\n",
        "    return y\n",
        "    \n",
        "    \n",
        "    \n",
        "    \n",
        "    "
      ],
      "execution_count": 0,
      "outputs": []
    },
    {
      "metadata": {
        "id": "oPIWXWHfa4ki",
        "colab_type": "code",
        "colab": {
          "autoexec": {
            "startup": false,
            "wait_interval": 0
          }
        }
      },
      "cell_type": "code",
      "source": [
        "def make_model(classes=10):\n",
        "    inputs=Input(shape=(32,32,3))\n",
        "    l1=Conv2D(16,kernel_size=(3,3),strides=(1,1),activation='relu',padding='same')(inputs)\n",
        "    l1=BatchNormalization()(l1)\n",
        "    l1=Activation('relu')(l1)\n",
        "    \n",
        "    \n",
        "    \n",
        "    l2=residual_layer(l1,16)\n",
        "    l3=residual_layer(l2,16)\n",
        "    l4=residual_layer(l3,16)\n",
        "    l5=residual_layer(l4,16)\n",
        "    l6=residual_layer(l5,16)\n",
        "    \n",
        "    l7=residual_layer(l6,32,(2,2))\n",
        "    l8=residual_layer(l7,32)\n",
        "    l9=residual_layer(l8,32)\n",
        "    l10=residual_layer(l9,32)\n",
        "    l11=residual_layer(l10,32)\n",
        "    \n",
        "    \n",
        "    l12=residual_layer(l11,64,(2,2))\n",
        "    l13=residual_layer(l12,64)\n",
        "    l14=residual_layer(l13,64)\n",
        "    l15=residual_layer(l14,64)\n",
        "    l16=residual_layer(l15,64)\n",
        "    \n",
        "    l17=GlobalAveragePooling2D()(l16)\n",
        "    outputs=Dense(classes,activation='softmax')(l17)\n",
        "    \n",
        "    return inputs,outputs\n",
        "    \n",
        "    "
      ],
      "execution_count": 0,
      "outputs": []
    },
    {
      "metadata": {
        "id": "Oy-p0YQTZgcp",
        "colab_type": "code",
        "colab": {
          "autoexec": {
            "startup": false,
            "wait_interval": 0
          },
          "base_uri": "https://localhost:8080/",
          "height": 4811
        },
        "outputId": "6d52a8e0-9a99-4106-95d8-b1b117e64b57",
        "executionInfo": {
          "status": "ok",
          "timestamp": 1528688560632,
          "user_tz": -330,
          "elapsed": 5627,
          "user": {
            "displayName": "Saloni Jain",
            "photoUrl": "https://lh3.googleusercontent.com/a/default-user=s128",
            "userId": "104379084192678848103"
          }
        }
      },
      "cell_type": "code",
      "source": [
        "inputs,outputs=make_model()\n",
        "resnet34=Model(inputs=inputs,outputs=outputs)\n",
        "resnet34.summary()"
      ],
      "execution_count": 15,
      "outputs": [
        {
          "output_type": "stream",
          "text": [
            "__________________________________________________________________________________________________\n",
            "Layer (type)                    Output Shape         Param #     Connected to                     \n",
            "==================================================================================================\n",
            "input_1 (InputLayer)            (None, 32, 32, 3)    0                                            \n",
            "__________________________________________________________________________________________________\n",
            "conv2d_1 (Conv2D)               (None, 32, 32, 16)   448         input_1[0][0]                    \n",
            "__________________________________________________________________________________________________\n",
            "batch_normalization_1 (BatchNor (None, 32, 32, 16)   64          conv2d_1[0][0]                   \n",
            "__________________________________________________________________________________________________\n",
            "activation_1 (Activation)       (None, 32, 32, 16)   0           batch_normalization_1[0][0]      \n",
            "__________________________________________________________________________________________________\n",
            "conv2d_2 (Conv2D)               (None, 32, 32, 16)   2320        activation_1[0][0]               \n",
            "__________________________________________________________________________________________________\n",
            "batch_normalization_2 (BatchNor (None, 32, 32, 16)   64          conv2d_2[0][0]                   \n",
            "__________________________________________________________________________________________________\n",
            "activation_2 (Activation)       (None, 32, 32, 16)   0           batch_normalization_2[0][0]      \n",
            "__________________________________________________________________________________________________\n",
            "conv2d_3 (Conv2D)               (None, 32, 32, 16)   2320        activation_2[0][0]               \n",
            "__________________________________________________________________________________________________\n",
            "batch_normalization_3 (BatchNor (None, 32, 32, 16)   64          conv2d_3[0][0]                   \n",
            "__________________________________________________________________________________________________\n",
            "activation_3 (Activation)       (None, 32, 32, 16)   0           batch_normalization_3[0][0]      \n",
            "__________________________________________________________________________________________________\n",
            "add_1 (Add)                     (None, 32, 32, 16)   0           activation_1[0][0]               \n",
            "                                                                 activation_3[0][0]               \n",
            "__________________________________________________________________________________________________\n",
            "activation_4 (Activation)       (None, 32, 32, 16)   0           add_1[0][0]                      \n",
            "__________________________________________________________________________________________________\n",
            "conv2d_4 (Conv2D)               (None, 32, 32, 16)   2320        activation_4[0][0]               \n",
            "__________________________________________________________________________________________________\n",
            "batch_normalization_4 (BatchNor (None, 32, 32, 16)   64          conv2d_4[0][0]                   \n",
            "__________________________________________________________________________________________________\n",
            "activation_5 (Activation)       (None, 32, 32, 16)   0           batch_normalization_4[0][0]      \n",
            "__________________________________________________________________________________________________\n",
            "conv2d_5 (Conv2D)               (None, 32, 32, 16)   2320        activation_5[0][0]               \n",
            "__________________________________________________________________________________________________\n",
            "batch_normalization_5 (BatchNor (None, 32, 32, 16)   64          conv2d_5[0][0]                   \n",
            "__________________________________________________________________________________________________\n",
            "activation_6 (Activation)       (None, 32, 32, 16)   0           batch_normalization_5[0][0]      \n",
            "__________________________________________________________________________________________________\n",
            "add_2 (Add)                     (None, 32, 32, 16)   0           activation_4[0][0]               \n",
            "                                                                 activation_6[0][0]               \n",
            "__________________________________________________________________________________________________\n",
            "activation_7 (Activation)       (None, 32, 32, 16)   0           add_2[0][0]                      \n",
            "__________________________________________________________________________________________________\n",
            "conv2d_6 (Conv2D)               (None, 32, 32, 16)   2320        activation_7[0][0]               \n",
            "__________________________________________________________________________________________________\n",
            "batch_normalization_6 (BatchNor (None, 32, 32, 16)   64          conv2d_6[0][0]                   \n",
            "__________________________________________________________________________________________________\n",
            "activation_8 (Activation)       (None, 32, 32, 16)   0           batch_normalization_6[0][0]      \n",
            "__________________________________________________________________________________________________\n",
            "conv2d_7 (Conv2D)               (None, 32, 32, 16)   2320        activation_8[0][0]               \n",
            "__________________________________________________________________________________________________\n",
            "batch_normalization_7 (BatchNor (None, 32, 32, 16)   64          conv2d_7[0][0]                   \n",
            "__________________________________________________________________________________________________\n",
            "activation_9 (Activation)       (None, 32, 32, 16)   0           batch_normalization_7[0][0]      \n",
            "__________________________________________________________________________________________________\n",
            "add_3 (Add)                     (None, 32, 32, 16)   0           activation_7[0][0]               \n",
            "                                                                 activation_9[0][0]               \n",
            "__________________________________________________________________________________________________\n",
            "activation_10 (Activation)      (None, 32, 32, 16)   0           add_3[0][0]                      \n",
            "__________________________________________________________________________________________________\n",
            "conv2d_8 (Conv2D)               (None, 32, 32, 16)   2320        activation_10[0][0]              \n",
            "__________________________________________________________________________________________________\n",
            "batch_normalization_8 (BatchNor (None, 32, 32, 16)   64          conv2d_8[0][0]                   \n",
            "__________________________________________________________________________________________________\n",
            "activation_11 (Activation)      (None, 32, 32, 16)   0           batch_normalization_8[0][0]      \n",
            "__________________________________________________________________________________________________\n",
            "conv2d_9 (Conv2D)               (None, 32, 32, 16)   2320        activation_11[0][0]              \n",
            "__________________________________________________________________________________________________\n",
            "batch_normalization_9 (BatchNor (None, 32, 32, 16)   64          conv2d_9[0][0]                   \n",
            "__________________________________________________________________________________________________\n",
            "activation_12 (Activation)      (None, 32, 32, 16)   0           batch_normalization_9[0][0]      \n",
            "__________________________________________________________________________________________________\n",
            "add_4 (Add)                     (None, 32, 32, 16)   0           activation_10[0][0]              \n",
            "                                                                 activation_12[0][0]              \n",
            "__________________________________________________________________________________________________\n",
            "activation_13 (Activation)      (None, 32, 32, 16)   0           add_4[0][0]                      \n",
            "__________________________________________________________________________________________________\n",
            "conv2d_10 (Conv2D)              (None, 32, 32, 16)   2320        activation_13[0][0]              \n",
            "__________________________________________________________________________________________________\n",
            "batch_normalization_10 (BatchNo (None, 32, 32, 16)   64          conv2d_10[0][0]                  \n",
            "__________________________________________________________________________________________________\n",
            "activation_14 (Activation)      (None, 32, 32, 16)   0           batch_normalization_10[0][0]     \n",
            "__________________________________________________________________________________________________\n",
            "conv2d_11 (Conv2D)              (None, 32, 32, 16)   2320        activation_14[0][0]              \n",
            "__________________________________________________________________________________________________\n",
            "batch_normalization_11 (BatchNo (None, 32, 32, 16)   64          conv2d_11[0][0]                  \n",
            "__________________________________________________________________________________________________\n",
            "activation_15 (Activation)      (None, 32, 32, 16)   0           batch_normalization_11[0][0]     \n",
            "__________________________________________________________________________________________________\n",
            "add_5 (Add)                     (None, 32, 32, 16)   0           activation_13[0][0]              \n",
            "                                                                 activation_15[0][0]              \n",
            "__________________________________________________________________________________________________\n",
            "activation_16 (Activation)      (None, 32, 32, 16)   0           add_5[0][0]                      \n",
            "__________________________________________________________________________________________________\n",
            "conv2d_12 (Conv2D)              (None, 16, 16, 32)   4640        activation_16[0][0]              \n",
            "__________________________________________________________________________________________________\n",
            "batch_normalization_12 (BatchNo (None, 16, 16, 32)   128         conv2d_12[0][0]                  \n",
            "__________________________________________________________________________________________________\n",
            "activation_17 (Activation)      (None, 16, 16, 32)   0           batch_normalization_12[0][0]     \n",
            "__________________________________________________________________________________________________\n",
            "conv2d_13 (Conv2D)              (None, 16, 16, 32)   9248        activation_17[0][0]              \n",
            "__________________________________________________________________________________________________\n",
            "conv2d_14 (Conv2D)              (None, 16, 16, 32)   544         activation_16[0][0]              \n",
            "__________________________________________________________________________________________________\n",
            "batch_normalization_13 (BatchNo (None, 16, 16, 32)   128         conv2d_13[0][0]                  \n",
            "__________________________________________________________________________________________________\n",
            "batch_normalization_14 (BatchNo (None, 16, 16, 32)   128         conv2d_14[0][0]                  \n",
            "__________________________________________________________________________________________________\n",
            "activation_18 (Activation)      (None, 16, 16, 32)   0           batch_normalization_13[0][0]     \n",
            "__________________________________________________________________________________________________\n",
            "add_6 (Add)                     (None, 16, 16, 32)   0           batch_normalization_14[0][0]     \n",
            "                                                                 activation_18[0][0]              \n",
            "__________________________________________________________________________________________________\n",
            "activation_19 (Activation)      (None, 16, 16, 32)   0           add_6[0][0]                      \n",
            "__________________________________________________________________________________________________\n",
            "conv2d_15 (Conv2D)              (None, 16, 16, 32)   9248        activation_19[0][0]              \n",
            "__________________________________________________________________________________________________\n",
            "batch_normalization_15 (BatchNo (None, 16, 16, 32)   128         conv2d_15[0][0]                  \n",
            "__________________________________________________________________________________________________\n",
            "activation_20 (Activation)      (None, 16, 16, 32)   0           batch_normalization_15[0][0]     \n",
            "__________________________________________________________________________________________________\n",
            "conv2d_16 (Conv2D)              (None, 16, 16, 32)   9248        activation_20[0][0]              \n",
            "__________________________________________________________________________________________________\n",
            "batch_normalization_16 (BatchNo (None, 16, 16, 32)   128         conv2d_16[0][0]                  \n",
            "__________________________________________________________________________________________________\n",
            "activation_21 (Activation)      (None, 16, 16, 32)   0           batch_normalization_16[0][0]     \n",
            "__________________________________________________________________________________________________\n",
            "add_7 (Add)                     (None, 16, 16, 32)   0           activation_19[0][0]              \n",
            "                                                                 activation_21[0][0]              \n",
            "__________________________________________________________________________________________________\n",
            "activation_22 (Activation)      (None, 16, 16, 32)   0           add_7[0][0]                      \n",
            "__________________________________________________________________________________________________\n",
            "conv2d_17 (Conv2D)              (None, 16, 16, 32)   9248        activation_22[0][0]              \n",
            "__________________________________________________________________________________________________\n",
            "batch_normalization_17 (BatchNo (None, 16, 16, 32)   128         conv2d_17[0][0]                  \n",
            "__________________________________________________________________________________________________\n",
            "activation_23 (Activation)      (None, 16, 16, 32)   0           batch_normalization_17[0][0]     \n",
            "__________________________________________________________________________________________________\n",
            "conv2d_18 (Conv2D)              (None, 16, 16, 32)   9248        activation_23[0][0]              \n",
            "__________________________________________________________________________________________________\n",
            "batch_normalization_18 (BatchNo (None, 16, 16, 32)   128         conv2d_18[0][0]                  \n",
            "__________________________________________________________________________________________________\n",
            "activation_24 (Activation)      (None, 16, 16, 32)   0           batch_normalization_18[0][0]     \n",
            "__________________________________________________________________________________________________\n",
            "add_8 (Add)                     (None, 16, 16, 32)   0           activation_22[0][0]              \n",
            "                                                                 activation_24[0][0]              \n",
            "__________________________________________________________________________________________________\n",
            "activation_25 (Activation)      (None, 16, 16, 32)   0           add_8[0][0]                      \n",
            "__________________________________________________________________________________________________\n",
            "conv2d_19 (Conv2D)              (None, 16, 16, 32)   9248        activation_25[0][0]              \n",
            "__________________________________________________________________________________________________\n",
            "batch_normalization_19 (BatchNo (None, 16, 16, 32)   128         conv2d_19[0][0]                  \n",
            "__________________________________________________________________________________________________\n",
            "activation_26 (Activation)      (None, 16, 16, 32)   0           batch_normalization_19[0][0]     \n",
            "__________________________________________________________________________________________________\n",
            "conv2d_20 (Conv2D)              (None, 16, 16, 32)   9248        activation_26[0][0]              \n",
            "__________________________________________________________________________________________________\n",
            "batch_normalization_20 (BatchNo (None, 16, 16, 32)   128         conv2d_20[0][0]                  \n",
            "__________________________________________________________________________________________________\n",
            "activation_27 (Activation)      (None, 16, 16, 32)   0           batch_normalization_20[0][0]     \n",
            "__________________________________________________________________________________________________\n",
            "add_9 (Add)                     (None, 16, 16, 32)   0           activation_25[0][0]              \n",
            "                                                                 activation_27[0][0]              \n",
            "__________________________________________________________________________________________________\n",
            "activation_28 (Activation)      (None, 16, 16, 32)   0           add_9[0][0]                      \n",
            "__________________________________________________________________________________________________\n",
            "conv2d_21 (Conv2D)              (None, 16, 16, 32)   9248        activation_28[0][0]              \n",
            "__________________________________________________________________________________________________\n",
            "batch_normalization_21 (BatchNo (None, 16, 16, 32)   128         conv2d_21[0][0]                  \n",
            "__________________________________________________________________________________________________\n",
            "activation_29 (Activation)      (None, 16, 16, 32)   0           batch_normalization_21[0][0]     \n",
            "__________________________________________________________________________________________________\n",
            "conv2d_22 (Conv2D)              (None, 16, 16, 32)   9248        activation_29[0][0]              \n",
            "__________________________________________________________________________________________________\n",
            "batch_normalization_22 (BatchNo (None, 16, 16, 32)   128         conv2d_22[0][0]                  \n",
            "__________________________________________________________________________________________________\n",
            "activation_30 (Activation)      (None, 16, 16, 32)   0           batch_normalization_22[0][0]     \n",
            "__________________________________________________________________________________________________\n",
            "add_10 (Add)                    (None, 16, 16, 32)   0           activation_28[0][0]              \n",
            "                                                                 activation_30[0][0]              \n",
            "__________________________________________________________________________________________________\n",
            "activation_31 (Activation)      (None, 16, 16, 32)   0           add_10[0][0]                     \n",
            "__________________________________________________________________________________________________\n",
            "conv2d_23 (Conv2D)              (None, 8, 8, 64)     18496       activation_31[0][0]              \n",
            "__________________________________________________________________________________________________\n",
            "batch_normalization_23 (BatchNo (None, 8, 8, 64)     256         conv2d_23[0][0]                  \n",
            "__________________________________________________________________________________________________\n",
            "activation_32 (Activation)      (None, 8, 8, 64)     0           batch_normalization_23[0][0]     \n",
            "__________________________________________________________________________________________________\n",
            "conv2d_24 (Conv2D)              (None, 8, 8, 64)     36928       activation_32[0][0]              \n",
            "__________________________________________________________________________________________________\n",
            "conv2d_25 (Conv2D)              (None, 8, 8, 64)     2112        activation_31[0][0]              \n",
            "__________________________________________________________________________________________________\n",
            "batch_normalization_24 (BatchNo (None, 8, 8, 64)     256         conv2d_24[0][0]                  \n",
            "__________________________________________________________________________________________________\n",
            "batch_normalization_25 (BatchNo (None, 8, 8, 64)     256         conv2d_25[0][0]                  \n",
            "__________________________________________________________________________________________________\n",
            "activation_33 (Activation)      (None, 8, 8, 64)     0           batch_normalization_24[0][0]     \n",
            "__________________________________________________________________________________________________\n",
            "add_11 (Add)                    (None, 8, 8, 64)     0           batch_normalization_25[0][0]     \n",
            "                                                                 activation_33[0][0]              \n",
            "__________________________________________________________________________________________________\n",
            "activation_34 (Activation)      (None, 8, 8, 64)     0           add_11[0][0]                     \n",
            "__________________________________________________________________________________________________\n",
            "conv2d_26 (Conv2D)              (None, 8, 8, 64)     36928       activation_34[0][0]              \n",
            "__________________________________________________________________________________________________\n",
            "batch_normalization_26 (BatchNo (None, 8, 8, 64)     256         conv2d_26[0][0]                  \n",
            "__________________________________________________________________________________________________\n",
            "activation_35 (Activation)      (None, 8, 8, 64)     0           batch_normalization_26[0][0]     \n",
            "__________________________________________________________________________________________________\n",
            "conv2d_27 (Conv2D)              (None, 8, 8, 64)     36928       activation_35[0][0]              \n",
            "__________________________________________________________________________________________________\n",
            "batch_normalization_27 (BatchNo (None, 8, 8, 64)     256         conv2d_27[0][0]                  \n",
            "__________________________________________________________________________________________________\n",
            "activation_36 (Activation)      (None, 8, 8, 64)     0           batch_normalization_27[0][0]     \n",
            "__________________________________________________________________________________________________\n",
            "add_12 (Add)                    (None, 8, 8, 64)     0           activation_34[0][0]              \n",
            "                                                                 activation_36[0][0]              \n",
            "__________________________________________________________________________________________________\n",
            "activation_37 (Activation)      (None, 8, 8, 64)     0           add_12[0][0]                     \n",
            "__________________________________________________________________________________________________\n",
            "conv2d_28 (Conv2D)              (None, 8, 8, 64)     36928       activation_37[0][0]              \n",
            "__________________________________________________________________________________________________\n",
            "batch_normalization_28 (BatchNo (None, 8, 8, 64)     256         conv2d_28[0][0]                  \n",
            "__________________________________________________________________________________________________\n",
            "activation_38 (Activation)      (None, 8, 8, 64)     0           batch_normalization_28[0][0]     \n",
            "__________________________________________________________________________________________________\n",
            "conv2d_29 (Conv2D)              (None, 8, 8, 64)     36928       activation_38[0][0]              \n",
            "__________________________________________________________________________________________________\n",
            "batch_normalization_29 (BatchNo (None, 8, 8, 64)     256         conv2d_29[0][0]                  \n",
            "__________________________________________________________________________________________________\n",
            "activation_39 (Activation)      (None, 8, 8, 64)     0           batch_normalization_29[0][0]     \n",
            "__________________________________________________________________________________________________\n",
            "add_13 (Add)                    (None, 8, 8, 64)     0           activation_37[0][0]              \n",
            "                                                                 activation_39[0][0]              \n",
            "__________________________________________________________________________________________________\n",
            "activation_40 (Activation)      (None, 8, 8, 64)     0           add_13[0][0]                     \n",
            "__________________________________________________________________________________________________\n",
            "conv2d_30 (Conv2D)              (None, 8, 8, 64)     36928       activation_40[0][0]              \n",
            "__________________________________________________________________________________________________\n",
            "batch_normalization_30 (BatchNo (None, 8, 8, 64)     256         conv2d_30[0][0]                  \n",
            "__________________________________________________________________________________________________\n",
            "activation_41 (Activation)      (None, 8, 8, 64)     0           batch_normalization_30[0][0]     \n",
            "__________________________________________________________________________________________________\n",
            "conv2d_31 (Conv2D)              (None, 8, 8, 64)     36928       activation_41[0][0]              \n",
            "__________________________________________________________________________________________________\n",
            "batch_normalization_31 (BatchNo (None, 8, 8, 64)     256         conv2d_31[0][0]                  \n",
            "__________________________________________________________________________________________________\n",
            "activation_42 (Activation)      (None, 8, 8, 64)     0           batch_normalization_31[0][0]     \n",
            "__________________________________________________________________________________________________\n",
            "add_14 (Add)                    (None, 8, 8, 64)     0           activation_40[0][0]              \n",
            "                                                                 activation_42[0][0]              \n",
            "__________________________________________________________________________________________________\n",
            "activation_43 (Activation)      (None, 8, 8, 64)     0           add_14[0][0]                     \n",
            "__________________________________________________________________________________________________\n",
            "conv2d_32 (Conv2D)              (None, 8, 8, 64)     36928       activation_43[0][0]              \n",
            "__________________________________________________________________________________________________\n",
            "batch_normalization_32 (BatchNo (None, 8, 8, 64)     256         conv2d_32[0][0]                  \n",
            "__________________________________________________________________________________________________\n",
            "activation_44 (Activation)      (None, 8, 8, 64)     0           batch_normalization_32[0][0]     \n",
            "__________________________________________________________________________________________________\n",
            "conv2d_33 (Conv2D)              (None, 8, 8, 64)     36928       activation_44[0][0]              \n",
            "__________________________________________________________________________________________________\n",
            "batch_normalization_33 (BatchNo (None, 8, 8, 64)     256         conv2d_33[0][0]                  \n",
            "__________________________________________________________________________________________________\n",
            "activation_45 (Activation)      (None, 8, 8, 64)     0           batch_normalization_33[0][0]     \n",
            "__________________________________________________________________________________________________\n",
            "add_15 (Add)                    (None, 8, 8, 64)     0           activation_43[0][0]              \n",
            "                                                                 activation_45[0][0]              \n",
            "__________________________________________________________________________________________________\n",
            "activation_46 (Activation)      (None, 8, 8, 64)     0           add_15[0][0]                     \n",
            "__________________________________________________________________________________________________\n",
            "global_average_pooling2d_1 (Glo (None, 64)           0           activation_46[0][0]              \n",
            "__________________________________________________________________________________________________\n",
            "dense_1 (Dense)                 (None, 10)           650         global_average_pooling2d_1[0][0] \n",
            "==================================================================================================\n",
            "Total params: 470,602\n",
            "Trainable params: 468,138\n",
            "Non-trainable params: 2,464\n",
            "__________________________________________________________________________________________________\n"
          ],
          "name": "stdout"
        }
      ]
    },
    {
      "metadata": {
        "id": "jP9BSIP4fLl5",
        "colab_type": "code",
        "colab": {
          "autoexec": {
            "startup": false,
            "wait_interval": 0
          }
        }
      },
      "cell_type": "code",
      "source": [
        "optim=SGD(1e-1,momentum=0.9,decay=0.0001)\n",
        "loss=categorical_crossentropy\n",
        "resnet34.compile(optim,loss,metrics=['accuracy'])"
      ],
      "execution_count": 0,
      "outputs": []
    },
    {
      "metadata": {
        "id": "fe_zsKVsdVR2",
        "colab_type": "code",
        "colab": {
          "autoexec": {
            "startup": false,
            "wait_interval": 0
          },
          "base_uri": "https://localhost:8080/",
          "height": 5425
        },
        "outputId": "c90f4531-c628-4bbf-8cdd-3732aa735da4",
        "executionInfo": {
          "status": "ok",
          "timestamp": 1528702437703,
          "user_tz": -330,
          "elapsed": 1299541,
          "user": {
            "displayName": "Saloni Jain",
            "photoUrl": "https://lh3.googleusercontent.com/a/default-user=s128",
            "userId": "104379084192678848103"
          }
        }
      },
      "cell_type": "code",
      "source": [
        "resnet34.fit_generator(train_gen,validation_data=test_gen,steps_per_epoch=len(x_train)/256,validation_steps=len(x_test)/256,epochs=20,verbose=1)"
      ],
      "execution_count": 25,
      "outputs": [
        {
          "output_type": "stream",
          "text": [
            "WARNING:tensorflow:Variable *= will be deprecated. Use variable.assign_mul if you want assignment to the variable value or 'x = x * y' if you want a new python Tensor object.\n",
            "Epoch 1/20\n",
            "195/195 [==============================] - 69s 356ms/step - loss: 1.2291 - acc: 0.5933 - val_loss: 4.4687 - val_acc: 0.3277\n",
            "Epoch 2/20\n",
            "118/195 [=================>............] - ETA: 23s - loss: 0.7898 - acc: 0.7261"
          ],
          "name": "stdout"
        },
        {
          "output_type": "stream",
          "text": [
            "195/195 [==============================] - 64s 330ms/step - loss: 0.7595 - acc: 0.7361 - val_loss: 0.8897 - val_acc: 0.6887\n",
            "Epoch 3/20\n",
            "195/195 [==============================] - 64s 328ms/step - loss: 0.6158 - acc: 0.7872 - val_loss: 0.9055 - val_acc: 0.7045\n",
            "Epoch 4/20\n",
            "146/195 [=====================>........] - ETA: 15s - loss: 0.5360 - acc: 0.8146"
          ],
          "name": "stdout"
        },
        {
          "output_type": "stream",
          "text": [
            "195/195 [==============================] - 64s 328ms/step - loss: 0.5317 - acc: 0.8154 - val_loss: 0.7356 - val_acc: 0.7560\n",
            "Epoch 5/20\n",
            "195/195 [==============================] - 64s 329ms/step - loss: 0.4725 - acc: 0.8359 - val_loss: 0.9485 - val_acc: 0.7304\n",
            "Epoch 6/20\n",
            "153/195 [======================>.......] - ETA: 12s - loss: 0.4180 - acc: 0.8550"
          ],
          "name": "stdout"
        },
        {
          "output_type": "stream",
          "text": [
            "195/195 [==============================] - 64s 328ms/step - loss: 0.4203 - acc: 0.8540 - val_loss: 0.6635 - val_acc: 0.7860\n",
            "Epoch 7/20\n",
            "195/195 [==============================] - 64s 328ms/step - loss: 0.3902 - acc: 0.8628 - val_loss: 0.6129 - val_acc: 0.8012\n",
            "Epoch 8/20\n",
            "154/195 [======================>.......] - ETA: 12s - loss: 0.3471 - acc: 0.8796"
          ],
          "name": "stdout"
        },
        {
          "output_type": "stream",
          "text": [
            "195/195 [==============================] - 64s 329ms/step - loss: 0.3530 - acc: 0.8778 - val_loss: 0.6875 - val_acc: 0.7809\n",
            "Epoch 9/20\n",
            "195/195 [==============================] - 65s 333ms/step - loss: 0.3239 - acc: 0.8879 - val_loss: 0.7704 - val_acc: 0.7645\n",
            "Epoch 10/20\n",
            "154/195 [======================>.......] - ETA: 12s - loss: 0.2940 - acc: 0.8966"
          ],
          "name": "stdout"
        },
        {
          "output_type": "stream",
          "text": [
            "195/195 [==============================] - 65s 332ms/step - loss: 0.2987 - acc: 0.8950 - val_loss: 0.6288 - val_acc: 0.8003\n",
            "Epoch 11/20\n",
            "195/195 [==============================] - 65s 333ms/step - loss: 0.2657 - acc: 0.9075 - val_loss: 0.6908 - val_acc: 0.7914\n",
            "Epoch 12/20\n",
            "153/195 [======================>.......] - ETA: 12s - loss: 0.2597 - acc: 0.9096"
          ],
          "name": "stdout"
        },
        {
          "output_type": "stream",
          "text": [
            "195/195 [==============================] - 64s 330ms/step - loss: 0.2611 - acc: 0.9097 - val_loss: 0.7885 - val_acc: 0.7777\n",
            "Epoch 13/20\n",
            "195/195 [==============================] - 65s 332ms/step - loss: 0.2313 - acc: 0.9199 - val_loss: 0.6786 - val_acc: 0.7987\n",
            "Epoch 14/20\n",
            "153/195 [======================>.......] - ETA: 13s - loss: 0.2022 - acc: 0.9297"
          ],
          "name": "stdout"
        },
        {
          "output_type": "stream",
          "text": [
            "195/195 [==============================] - 65s 332ms/step - loss: 0.2070 - acc: 0.9279 - val_loss: 0.8863 - val_acc: 0.7554\n",
            "Epoch 15/20\n",
            "195/195 [==============================] - 65s 332ms/step - loss: 0.1972 - acc: 0.9318 - val_loss: 0.6919 - val_acc: 0.8041\n",
            "Epoch 16/20\n",
            "153/195 [======================>.......] - ETA: 13s - loss: 0.1854 - acc: 0.9350"
          ],
          "name": "stdout"
        },
        {
          "output_type": "stream",
          "text": [
            "195/195 [==============================] - 65s 332ms/step - loss: 0.1889 - acc: 0.9338 - val_loss: 0.9445 - val_acc: 0.7652\n",
            "Epoch 17/20\n",
            "195/195 [==============================] - 64s 330ms/step - loss: 0.1695 - acc: 0.9416 - val_loss: 0.7440 - val_acc: 0.7991\n",
            "Epoch 18/20\n",
            "153/195 [======================>.......] - ETA: 13s - loss: 0.1559 - acc: 0.9447"
          ],
          "name": "stdout"
        },
        {
          "output_type": "stream",
          "text": [
            "195/195 [==============================] - 65s 332ms/step - loss: 0.1597 - acc: 0.9434 - val_loss: 0.6617 - val_acc: 0.8186\n",
            "Epoch 19/20\n",
            "195/195 [==============================] - 65s 332ms/step - loss: 0.1429 - acc: 0.9496 - val_loss: 0.7728 - val_acc: 0.7950\n",
            "Epoch 20/20\n",
            "153/195 [======================>.......] - ETA: 12s - loss: 0.1352 - acc: 0.9525"
          ],
          "name": "stdout"
        },
        {
          "output_type": "stream",
          "text": [
            "195/195 [==============================] - 65s 332ms/step - loss: 0.1370 - acc: 0.9518 - val_loss: 1.0492 - val_acc: 0.7717\n"
          ],
          "name": "stdout"
        },
        {
          "output_type": "execute_result",
          "data": {
            "text/plain": [
              "<keras.callbacks.History at 0x7f7160e94150>"
            ]
          },
          "metadata": {
            "tags": []
          },
          "execution_count": 25
        }
      ]
    },
    {
      "metadata": {
        "id": "eT1wq7RNCfng",
        "colab_type": "code",
        "colab": {
          "autoexec": {
            "startup": false,
            "wait_interval": 0
          }
        }
      },
      "cell_type": "code",
      "source": [
        "resnet34.save_weights(\"./drive/ML/Cifar-10/weights_8572.h5\")"
      ],
      "execution_count": 0,
      "outputs": []
    },
    {
      "metadata": {
        "id": "oAgK0j4Mh__B",
        "colab_type": "code",
        "colab": {
          "autoexec": {
            "startup": false,
            "wait_interval": 0
          },
          "base_uri": "https://localhost:8080/",
          "height": 2699
        },
        "outputId": "7efb05a7-dd6f-4e4d-e6bc-e4042b9e9b10",
        "executionInfo": {
          "status": "ok",
          "timestamp": 1528710071165,
          "user_tz": -330,
          "elapsed": 969721,
          "user": {
            "displayName": "Saloni Jain",
            "photoUrl": "https://lh3.googleusercontent.com/a/default-user=s128",
            "userId": "104379084192678848103"
          }
        }
      },
      "cell_type": "code",
      "source": [
        "resnet34.fit_generator(train_gen,validation_data=test_gen,steps_per_epoch=len(x_train)/256,validation_steps=len(x_test)/256,epochs=15,verbose=1)"
      ],
      "execution_count": 27,
      "outputs": [
        {
          "output_type": "stream",
          "text": [
            "Epoch 1/15\n",
            "195/195 [==============================] - 65s 333ms/step - loss: 0.1174 - acc: 0.9584 - val_loss: 0.7853 - val_acc: 0.8136\n",
            "Epoch 2/15\n",
            "195/195 [==============================] - 65s 332ms/step - loss: 0.1123 - acc: 0.9622 - val_loss: 0.7300 - val_acc: 0.8118\n",
            "Epoch 3/15\n",
            "104/195 [===============>..............] - ETA: 28s - loss: 0.0967 - acc: 0.9655"
          ],
          "name": "stdout"
        },
        {
          "output_type": "stream",
          "text": [
            "195/195 [==============================] - 65s 333ms/step - loss: 0.1023 - acc: 0.9637 - val_loss: 0.7773 - val_acc: 0.8196\n",
            "Epoch 4/15\n",
            "195/195 [==============================] - 65s 332ms/step - loss: 0.0968 - acc: 0.9660 - val_loss: 0.6675 - val_acc: 0.8348\n",
            "Epoch 5/15\n",
            "143/195 [=====================>........] - ETA: 16s - loss: 0.0784 - acc: 0.9730"
          ],
          "name": "stdout"
        },
        {
          "output_type": "stream",
          "text": [
            "195/195 [==============================] - 65s 331ms/step - loss: 0.0820 - acc: 0.9714 - val_loss: 0.8307 - val_acc: 0.8138\n",
            "Epoch 6/15\n",
            "195/195 [==============================] - 65s 331ms/step - loss: 0.0763 - acc: 0.9744 - val_loss: 0.8083 - val_acc: 0.8079\n",
            "Epoch 7/15\n",
            "152/195 [======================>.......] - ETA: 13s - loss: 0.0648 - acc: 0.9772"
          ],
          "name": "stdout"
        },
        {
          "output_type": "stream",
          "text": [
            "195/195 [==============================] - 65s 333ms/step - loss: 0.0663 - acc: 0.9766 - val_loss: 0.8268 - val_acc: 0.8149\n",
            "Epoch 8/15\n",
            "195/195 [==============================] - 64s 331ms/step - loss: 0.0588 - acc: 0.9798 - val_loss: 0.8625 - val_acc: 0.8149\n",
            "Epoch 9/15\n",
            "154/195 [======================>.......] - ETA: 12s - loss: 0.0586 - acc: 0.9803"
          ],
          "name": "stdout"
        },
        {
          "output_type": "stream",
          "text": [
            "195/195 [==============================] - 65s 331ms/step - loss: 0.0591 - acc: 0.9798 - val_loss: 0.8714 - val_acc: 0.8194\n",
            "Epoch 10/15\n",
            "195/195 [==============================] - 64s 330ms/step - loss: 0.0546 - acc: 0.9812 - val_loss: 0.8814 - val_acc: 0.8168\n",
            "Epoch 11/15\n",
            "153/195 [======================>.......] - ETA: 12s - loss: 0.0514 - acc: 0.9823"
          ],
          "name": "stdout"
        },
        {
          "output_type": "stream",
          "text": [
            "195/195 [==============================] - 64s 329ms/step - loss: 0.0534 - acc: 0.9812 - val_loss: 0.8590 - val_acc: 0.8238\n",
            "Epoch 12/15\n",
            "195/195 [==============================] - 64s 329ms/step - loss: 0.0507 - acc: 0.9824 - val_loss: 0.7916 - val_acc: 0.8302\n",
            "Epoch 13/15\n",
            "153/195 [======================>.......] - ETA: 12s - loss: 0.0397 - acc: 0.9868"
          ],
          "name": "stdout"
        },
        {
          "output_type": "stream",
          "text": [
            "195/195 [==============================] - 64s 330ms/step - loss: 0.0411 - acc: 0.9863 - val_loss: 0.7971 - val_acc: 0.8369\n",
            "Epoch 14/15\n",
            "195/195 [==============================] - 65s 332ms/step - loss: 0.0446 - acc: 0.9842 - val_loss: 0.7848 - val_acc: 0.8406\n",
            "Epoch 15/15\n",
            "153/195 [======================>.......] - ETA: 12s - loss: 0.0368 - acc: 0.9874"
          ],
          "name": "stdout"
        },
        {
          "output_type": "stream",
          "text": [
            "195/195 [==============================] - 65s 331ms/step - loss: 0.0369 - acc: 0.9875 - val_loss: 0.7849 - val_acc: 0.8382\n"
          ],
          "name": "stdout"
        },
        {
          "output_type": "execute_result",
          "data": {
            "text/plain": [
              "<keras.callbacks.History at 0x7f7160eea950>"
            ]
          },
          "metadata": {
            "tags": []
          },
          "execution_count": 27
        }
      ]
    },
    {
      "metadata": {
        "id": "784zBHZegJJs",
        "colab_type": "code",
        "colab": {
          "autoexec": {
            "startup": false,
            "wait_interval": 0
          },
          "base_uri": "https://localhost:8080/",
          "height": 2455
        },
        "outputId": "3bd6bbd4-5c51-4f61-b4da-0aa68ceda88d",
        "executionInfo": {
          "status": "ok",
          "timestamp": 1528711137226,
          "user_tz": -330,
          "elapsed": 971229,
          "user": {
            "displayName": "Saloni Jain",
            "photoUrl": "https://lh3.googleusercontent.com/a/default-user=s128",
            "userId": "104379084192678848103"
          }
        }
      },
      "cell_type": "code",
      "source": [
        "resnet34.fit_generator(train_gen,validation_data=test_gen,steps_per_epoch=len(x_train)/256,validation_steps=len(x_test)/256,epochs=15,verbose=1)"
      ],
      "execution_count": 29,
      "outputs": [
        {
          "output_type": "stream",
          "text": [
            "Epoch 1/15\n",
            "195/195 [==============================] - 65s 332ms/step - loss: 0.0248 - acc: 0.9920 - val_loss: 1.0256 - val_acc: 0.8142\n",
            "Epoch 2/15\n",
            "195/195 [==============================] - 65s 331ms/step - loss: 0.0217 - acc: 0.9933 - val_loss: 0.8001 - val_acc: 0.8452\n",
            "Epoch 3/15\n",
            "104/195 [===============>..............] - ETA: 28s - loss: 0.0180 - acc: 0.9938"
          ],
          "name": "stdout"
        },
        {
          "output_type": "stream",
          "text": [
            "195/195 [==============================] - 65s 331ms/step - loss: 0.0194 - acc: 0.9939 - val_loss: 1.0222 - val_acc: 0.8253\n",
            "Epoch 4/15\n",
            "195/195 [==============================] - 65s 332ms/step - loss: 0.0177 - acc: 0.9945 - val_loss: 0.8324 - val_acc: 0.8415\n",
            "Epoch 5/15\n",
            "143/195 [=====================>........] - ETA: 16s - loss: 0.0168 - acc: 0.9947"
          ],
          "name": "stdout"
        },
        {
          "output_type": "stream",
          "text": [
            "195/195 [==============================] - 64s 329ms/step - loss: 0.0165 - acc: 0.9949 - val_loss: 0.8208 - val_acc: 0.8447\n",
            "Epoch 6/15\n",
            "195/195 [==============================] - 64s 330ms/step - loss: 0.0156 - acc: 0.9955 - val_loss: 0.9789 - val_acc: 0.8278\n",
            "Epoch 7/15\n",
            "152/195 [======================>.......] - ETA: 13s - loss: 0.0173 - acc: 0.9947"
          ],
          "name": "stdout"
        },
        {
          "output_type": "stream",
          "text": [
            "195/195 [==============================] - 65s 332ms/step - loss: 0.0173 - acc: 0.9945 - val_loss: 0.8970 - val_acc: 0.8393\n",
            "Epoch 8/15\n",
            "195/195 [==============================] - 65s 332ms/step - loss: 0.0125 - acc: 0.9961 - val_loss: 0.8586 - val_acc: 0.8431\n",
            "Epoch 9/15\n",
            "154/195 [======================>.......] - ETA: 12s - loss: 0.0098 - acc: 0.9973"
          ],
          "name": "stdout"
        },
        {
          "output_type": "stream",
          "text": [
            "195/195 [==============================] - 65s 332ms/step - loss: 0.0094 - acc: 0.9974 - val_loss: 0.8837 - val_acc: 0.8451\n",
            "Epoch 10/15\n",
            "195/195 [==============================] - 65s 332ms/step - loss: 0.0126 - acc: 0.9962 - val_loss: 0.9296 - val_acc: 0.8341\n",
            "Epoch 11/15\n",
            "153/195 [======================>.......] - ETA: 13s - loss: 0.0105 - acc: 0.9971"
          ],
          "name": "stdout"
        },
        {
          "output_type": "stream",
          "text": [
            "195/195 [==============================] - 65s 332ms/step - loss: 0.0101 - acc: 0.9972 - val_loss: 0.8733 - val_acc: 0.8446\n",
            "Epoch 12/15\n",
            "195/195 [==============================] - 65s 332ms/step - loss: 0.0079 - acc: 0.9978 - val_loss: 0.9334 - val_acc: 0.8389\n",
            "Epoch 13/15\n",
            "153/195 [======================>.......] - ETA: 12s - loss: 0.0065 - acc: 0.9983"
          ],
          "name": "stdout"
        },
        {
          "output_type": "stream",
          "text": [
            "195/195 [==============================] - 65s 332ms/step - loss: 0.0065 - acc: 0.9983 - val_loss: 0.9006 - val_acc: 0.8446\n",
            "Epoch 14/15\n",
            "195/195 [==============================] - 65s 332ms/step - loss: 0.0084 - acc: 0.9978 - val_loss: 0.8981 - val_acc: 0.8477\n",
            "Epoch 15/15\n",
            "153/195 [======================>.......] - ETA: 12s - loss: 0.0045 - acc: 0.9991"
          ],
          "name": "stdout"
        },
        {
          "output_type": "stream",
          "text": [
            "195/195 [==============================] - 65s 332ms/step - loss: 0.0050 - acc: 0.9989 - val_loss: 0.9123 - val_acc: 0.8458\n"
          ],
          "name": "stdout"
        },
        {
          "output_type": "execute_result",
          "data": {
            "text/plain": [
              "<keras.callbacks.History at 0x7f7160e2b450>"
            ]
          },
          "metadata": {
            "tags": []
          },
          "execution_count": 29
        }
      ]
    },
    {
      "metadata": {
        "id": "4bYOVSu9xDTa",
        "colab_type": "code",
        "colab": {
          "autoexec": {
            "startup": false,
            "wait_interval": 0
          },
          "base_uri": "https://localhost:8080/",
          "height": 2645
        },
        "outputId": "d0989a2b-66b0-45cd-edfa-cb303c4c5f5b",
        "executionInfo": {
          "status": "ok",
          "timestamp": 1528712705782,
          "user_tz": -330,
          "elapsed": 968573,
          "user": {
            "displayName": "Saloni Jain",
            "photoUrl": "https://lh3.googleusercontent.com/a/default-user=s128",
            "userId": "104379084192678848103"
          }
        }
      },
      "cell_type": "code",
      "source": [
        "resnet34.fit_generator(train_gen,validation_data=test_gen,steps_per_epoch=len(x_train)/256,validation_steps=len(x_test)/256,epochs=15,verbose=1)"
      ],
      "execution_count": 31,
      "outputs": [
        {
          "output_type": "stream",
          "text": [
            "Epoch 1/15\n",
            "195/195 [==============================] - 65s 333ms/step - loss: 0.0034 - acc: 0.9993 - val_loss: 0.8947 - val_acc: 0.8536\n",
            "Epoch 2/15\n",
            "195/195 [==============================] - 65s 332ms/step - loss: 0.0031 - acc: 0.9994 - val_loss: 0.8973 - val_acc: 0.8494\n",
            "Epoch 3/15\n",
            "104/195 [===============>..............] - ETA: 28s - loss: 0.0023 - acc: 0.9996"
          ],
          "name": "stdout"
        },
        {
          "output_type": "stream",
          "text": [
            "195/195 [==============================] - 65s 333ms/step - loss: 0.0021 - acc: 0.9997 - val_loss: 0.8787 - val_acc: 0.8562\n",
            "Epoch 4/15\n",
            "195/195 [==============================] - 65s 332ms/step - loss: 0.0018 - acc: 0.9997 - val_loss: 0.8945 - val_acc: 0.8534\n",
            "Epoch 5/15\n",
            "143/195 [=====================>........] - ETA: 15s - loss: 0.0019 - acc: 0.9996"
          ],
          "name": "stdout"
        },
        {
          "output_type": "stream",
          "text": [
            "195/195 [==============================] - 64s 329ms/step - loss: 0.0018 - acc: 0.9996 - val_loss: 0.9130 - val_acc: 0.8540\n",
            "Epoch 6/15\n",
            "195/195 [==============================] - 64s 329ms/step - loss: 9.7837e-04 - acc: 0.9999 - val_loss: 0.8760 - val_acc: 0.8565\n",
            "Epoch 7/15\n",
            "147/195 [=====================>........] - ETA: 14s - loss: 9.9030e-04 - acc: 0.9999"
          ],
          "name": "stdout"
        },
        {
          "output_type": "stream",
          "text": [
            "195/195 [==============================] - 65s 332ms/step - loss: 9.3300e-04 - acc: 0.9999 - val_loss: 0.8935 - val_acc: 0.8558\n",
            "Epoch 8/15\n",
            "195/195 [==============================] - 65s 332ms/step - loss: 8.3467e-04 - acc: 1.0000 - val_loss: 0.8982 - val_acc: 0.8557\n",
            "Epoch 9/15\n",
            "143/195 [=====================>........] - ETA: 15s - loss: 6.1183e-04 - acc: 1.0000"
          ],
          "name": "stdout"
        },
        {
          "output_type": "stream",
          "text": [
            "195/195 [==============================] - 64s 326ms/step - loss: 5.9154e-04 - acc: 1.0000 - val_loss: 0.8911 - val_acc: 0.8582\n",
            "Epoch 10/15\n",
            "195/195 [==============================] - 64s 327ms/step - loss: 5.3548e-04 - acc: 1.0000 - val_loss: 0.8803 - val_acc: 0.8561\n",
            "Epoch 11/15\n",
            "141/195 [====================>.........] - ETA: 16s - loss: 5.4815e-04 - acc: 1.0000"
          ],
          "name": "stdout"
        },
        {
          "output_type": "stream",
          "text": [
            "195/195 [==============================] - 64s 331ms/step - loss: 5.2250e-04 - acc: 1.0000 - val_loss: 0.9188 - val_acc: 0.8590\n",
            "Epoch 12/15\n",
            "195/195 [==============================] - 64s 329ms/step - loss: 4.8260e-04 - acc: 1.0000 - val_loss: 0.8889 - val_acc: 0.8568\n",
            "Epoch 13/15\n",
            "140/195 [====================>.........] - ETA: 17s - loss: 4.9449e-04 - acc: 1.0000"
          ],
          "name": "stdout"
        },
        {
          "output_type": "stream",
          "text": [
            "195/195 [==============================] - 65s 332ms/step - loss: 4.9542e-04 - acc: 1.0000 - val_loss: 0.8876 - val_acc: 0.8575\n",
            "Epoch 14/15\n",
            "195/195 [==============================] - 65s 332ms/step - loss: 0.0012 - acc: 0.9998 - val_loss: 0.9170 - val_acc: 0.8526\n",
            "Epoch 15/15\n",
            "144/195 [=====================>........] - ETA: 15s - loss: 5.9299e-04 - acc: 1.0000"
          ],
          "name": "stdout"
        },
        {
          "output_type": "stream",
          "text": [
            "195/195 [==============================] - 65s 332ms/step - loss: 6.2380e-04 - acc: 1.0000 - val_loss: 0.9072 - val_acc: 0.8572\n"
          ],
          "name": "stdout"
        },
        {
          "output_type": "execute_result",
          "data": {
            "text/plain": [
              "<keras.callbacks.History at 0x7f715a95e450>"
            ]
          },
          "metadata": {
            "tags": []
          },
          "execution_count": 31
        }
      ]
    },
    {
      "metadata": {
        "id": "0Dps8PSmzoqR",
        "colab_type": "code",
        "colab": {
          "autoexec": {
            "startup": false,
            "wait_interval": 0
          },
          "base_uri": "https://localhost:8080/",
          "height": 2359
        },
        "outputId": "a60982a0-1f90-4407-b5da-85796977da9c"
      },
      "cell_type": "code",
      "source": [
        "resnet34.fit_generator(train_gen,validation_data=test_gen,steps_per_epoch=len(x_train)/256,validation_steps=len(x_test)/256,epochs=20,verbose=1)"
      ],
      "execution_count": 0,
      "outputs": [
        {
          "output_type": "stream",
          "text": [
            "Epoch 1/20\n",
            "195/195 [==============================] - 65s 333ms/step - loss: 4.1787e-04 - acc: 1.0000 - val_loss: 0.9019 - val_acc: 0.8575\n",
            "Epoch 2/20\n",
            "195/195 [==============================] - 65s 333ms/step - loss: 4.0950e-04 - acc: 1.0000 - val_loss: 0.8976 - val_acc: 0.8626\n",
            "Epoch 3/20\n",
            " 94/195 [=============>................] - ETA: 31s - loss: 3.6737e-04 - acc: 1.0000"
          ],
          "name": "stdout"
        },
        {
          "output_type": "stream",
          "text": [
            "195/195 [==============================] - 65s 332ms/step - loss: 3.7145e-04 - acc: 1.0000 - val_loss: 0.9229 - val_acc: 0.8593\n",
            "Epoch 4/20\n",
            "195/195 [==============================] - 65s 332ms/step - loss: 6.1552e-04 - acc: 0.9999 - val_loss: 0.9344 - val_acc: 0.8575\n",
            "Epoch 5/20\n",
            "131/195 [===================>..........] - ETA: 19s - loss: 4.4524e-04 - acc: 1.0000"
          ],
          "name": "stdout"
        },
        {
          "output_type": "stream",
          "text": [
            "195/195 [==============================] - 65s 333ms/step - loss: 4.5950e-04 - acc: 1.0000 - val_loss: 0.9228 - val_acc: 0.8564\n",
            "Epoch 6/20\n",
            "195/195 [==============================] - 65s 332ms/step - loss: 4.8111e-04 - acc: 1.0000 - val_loss: 0.9260 - val_acc: 0.8538\n",
            "Epoch 7/20\n",
            "140/195 [====================>.........] - ETA: 17s - loss: 4.7697e-04 - acc: 1.0000"
          ],
          "name": "stdout"
        },
        {
          "output_type": "stream",
          "text": [
            "195/195 [==============================] - 65s 332ms/step - loss: 4.2727e-04 - acc: 1.0000 - val_loss: 0.9469 - val_acc: 0.8551\n",
            "Epoch 8/20\n",
            "195/195 [==============================] - 65s 332ms/step - loss: 3.6268e-04 - acc: 1.0000 - val_loss: 0.9178 - val_acc: 0.8545\n",
            "Epoch 9/20\n",
            "141/195 [====================>.........] - ETA: 16s - loss: 3.1579e-04 - acc: 1.0000"
          ],
          "name": "stdout"
        },
        {
          "output_type": "stream",
          "text": [
            "195/195 [==============================] - 64s 328ms/step - loss: 3.1671e-04 - acc: 1.0000 - val_loss: 0.9048 - val_acc: 0.8591\n",
            "Epoch 10/20\n",
            "195/195 [==============================] - 64s 327ms/step - loss: 2.7627e-04 - acc: 1.0000 - val_loss: 0.9461 - val_acc: 0.8533\n",
            "Epoch 11/20\n",
            "141/195 [====================>.........] - ETA: 16s - loss: 6.1395e-04 - acc: 0.9999"
          ],
          "name": "stdout"
        },
        {
          "output_type": "stream",
          "text": [
            "195/195 [==============================] - 64s 327ms/step - loss: 5.8010e-04 - acc: 0.9999 - val_loss: 0.9521 - val_acc: 0.8574\n",
            "Epoch 12/20\n",
            "195/195 [==============================] - 64s 330ms/step - loss: 3.2594e-04 - acc: 1.0000 - val_loss: 0.9423 - val_acc: 0.8585\n",
            "Epoch 13/20\n",
            "140/195 [====================>.........] - ETA: 17s - loss: 2.9423e-04 - acc: 1.0000"
          ],
          "name": "stdout"
        },
        {
          "output_type": "stream",
          "text": [
            "195/195 [==============================] - 65s 333ms/step - loss: 2.9134e-04 - acc: 1.0000 - val_loss: 0.9457 - val_acc: 0.8574\n",
            "Epoch 14/20\n",
            "195/195 [==============================] - 65s 331ms/step - loss: 2.4101e-04 - acc: 1.0000 - val_loss: 0.9392 - val_acc: 0.8567\n",
            "Epoch 15/20\n",
            " 68/195 [=========>....................] - ETA: 39s - loss: 2.3387e-04 - acc: 1.0000"
          ],
          "name": "stdout"
        }
      ]
    },
    {
      "metadata": {
        "id": "qk-tQVc-ZQDW",
        "colab_type": "code",
        "colab": {
          "autoexec": {
            "startup": false,
            "wait_interval": 0
          },
          "base_uri": "https://localhost:8080/",
          "height": 3245
        },
        "outputId": "85579ec7-428c-45de-9cdc-ea02c0de4761",
        "executionInfo": {
          "status": "ok",
          "timestamp": 1528717917399,
          "user_tz": -330,
          "elapsed": 1287828,
          "user": {
            "displayName": "Saloni Jain",
            "photoUrl": "https://lh3.googleusercontent.com/a/default-user=s128",
            "userId": "104379084192678848103"
          }
        }
      },
      "cell_type": "code",
      "source": [
        "resnet34.fit_generator(train_gen,validation_data=test_gen,steps_per_epoch=len(x_train)/256,validation_steps=len(x_test)/256,epochs=20,verbose=1)"
      ],
      "execution_count": 34,
      "outputs": [
        {
          "output_type": "stream",
          "text": [
            "Epoch 1/20\n",
            "195/195 [==============================] - 64s 330ms/step - loss: 1.6122e-04 - acc: 1.0000 - val_loss: 0.9262 - val_acc: 0.8583\n",
            "Epoch 2/20\n",
            "195/195 [==============================] - 64s 330ms/step - loss: 1.8567e-04 - acc: 1.0000 - val_loss: 0.9501 - val_acc: 0.8579\n",
            "Epoch 3/20\n",
            " 94/195 [=============>................] - ETA: 30s - loss: 2.4403e-04 - acc: 1.0000"
          ],
          "name": "stdout"
        },
        {
          "output_type": "stream",
          "text": [
            "195/195 [==============================] - 64s 326ms/step - loss: 2.2040e-04 - acc: 1.0000 - val_loss: 0.9374 - val_acc: 0.8567\n",
            "Epoch 4/20\n",
            "195/195 [==============================] - 64s 330ms/step - loss: 1.8332e-04 - acc: 1.0000 - val_loss: 0.9325 - val_acc: 0.8586\n",
            "Epoch 5/20\n",
            "131/195 [===================>..........] - ETA: 19s - loss: 1.7314e-04 - acc: 1.0000"
          ],
          "name": "stdout"
        },
        {
          "output_type": "stream",
          "text": [
            "195/195 [==============================] - 64s 329ms/step - loss: 1.7265e-04 - acc: 1.0000 - val_loss: 0.9439 - val_acc: 0.8567\n",
            "Epoch 6/20\n",
            "195/195 [==============================] - 64s 329ms/step - loss: 1.5886e-04 - acc: 1.0000 - val_loss: 0.9559 - val_acc: 0.8569\n",
            "Epoch 7/20\n",
            "139/195 [====================>.........] - ETA: 17s - loss: 2.4571e-04 - acc: 1.0000"
          ],
          "name": "stdout"
        },
        {
          "output_type": "stream",
          "text": [
            "195/195 [==============================] - 64s 330ms/step - loss: 2.2773e-04 - acc: 1.0000 - val_loss: 0.9375 - val_acc: 0.8590\n",
            "Epoch 8/20\n",
            "195/195 [==============================] - 64s 327ms/step - loss: 9.2803e-04 - acc: 0.9999 - val_loss: 0.9617 - val_acc: 0.8545\n",
            "Epoch 9/20\n",
            "143/195 [=====================>........] - ETA: 15s - loss: 3.5427e-04 - acc: 1.0000"
          ],
          "name": "stdout"
        },
        {
          "output_type": "stream",
          "text": [
            "195/195 [==============================] - 64s 329ms/step - loss: 3.2067e-04 - acc: 1.0000 - val_loss: 0.9478 - val_acc: 0.8571\n",
            "Epoch 10/20\n",
            "195/195 [==============================] - 64s 327ms/step - loss: 4.0010e-04 - acc: 0.9999 - val_loss: 1.0621 - val_acc: 0.8444\n",
            "Epoch 11/20\n",
            "141/195 [====================>.........] - ETA: 16s - loss: 3.2264e-04 - acc: 1.0000"
          ],
          "name": "stdout"
        },
        {
          "output_type": "stream",
          "text": [
            "195/195 [==============================] - 64s 327ms/step - loss: 3.1245e-04 - acc: 1.0000 - val_loss: 0.9734 - val_acc: 0.8576\n",
            "Epoch 12/20\n",
            "195/195 [==============================] - 65s 332ms/step - loss: 8.1266e-04 - acc: 0.9998 - val_loss: 0.9816 - val_acc: 0.8523\n",
            "Epoch 13/20\n",
            "141/195 [====================>.........] - ETA: 16s - loss: 4.0561e-04 - acc: 1.0000"
          ],
          "name": "stdout"
        },
        {
          "output_type": "stream",
          "text": [
            "195/195 [==============================] - 64s 329ms/step - loss: 3.9414e-04 - acc: 1.0000 - val_loss: 0.9575 - val_acc: 0.8560\n",
            "Epoch 14/20\n",
            "195/195 [==============================] - 65s 332ms/step - loss: 2.5020e-04 - acc: 1.0000 - val_loss: 0.9718 - val_acc: 0.8552\n",
            "Epoch 15/20\n",
            "140/195 [====================>.........] - ETA: 17s - loss: 2.2314e-04 - acc: 1.0000"
          ],
          "name": "stdout"
        },
        {
          "output_type": "stream",
          "text": [
            "195/195 [==============================] - 65s 333ms/step - loss: 2.1825e-04 - acc: 1.0000 - val_loss: 0.9700 - val_acc: 0.8570\n",
            "Epoch 16/20\n",
            "195/195 [==============================] - 64s 330ms/step - loss: 2.1104e-04 - acc: 1.0000 - val_loss: 0.9467 - val_acc: 0.8575\n",
            "Epoch 17/20\n",
            "140/195 [====================>.........] - ETA: 16s - loss: 1.8078e-04 - acc: 1.0000"
          ],
          "name": "stdout"
        },
        {
          "output_type": "stream",
          "text": [
            "195/195 [==============================] - 65s 331ms/step - loss: 1.9524e-04 - acc: 1.0000 - val_loss: 0.9487 - val_acc: 0.8575\n",
            "Epoch 18/20\n",
            "195/195 [==============================] - 65s 331ms/step - loss: 1.9473e-04 - acc: 1.0000 - val_loss: 0.9380 - val_acc: 0.8583\n",
            "Epoch 19/20\n",
            "140/195 [====================>.........] - ETA: 16s - loss: 1.6294e-04 - acc: 1.0000"
          ],
          "name": "stdout"
        },
        {
          "output_type": "stream",
          "text": [
            "195/195 [==============================] - 65s 331ms/step - loss: 1.7188e-04 - acc: 1.0000 - val_loss: 0.9611 - val_acc: 0.8578\n",
            "Epoch 20/20\n",
            "195/195 [==============================] - 65s 332ms/step - loss: 1.7350e-04 - acc: 1.0000 - val_loss: 0.9833 - val_acc: 0.8562\n"
          ],
          "name": "stdout"
        },
        {
          "output_type": "execute_result",
          "data": {
            "text/plain": [
              "<keras.callbacks.History at 0x7f7160eeaa90>"
            ]
          },
          "metadata": {
            "tags": []
          },
          "execution_count": 34
        }
      ]
    },
    {
      "metadata": {
        "id": "9JLM7fRwnJX_",
        "colab_type": "code",
        "colab": {
          "autoexec": {
            "startup": false,
            "wait_interval": 0
          }
        }
      },
      "cell_type": "code",
      "source": [
        ""
      ],
      "execution_count": 0,
      "outputs": []
    }
  ]
}