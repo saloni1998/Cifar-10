{
  "nbformat": 4,
  "nbformat_minor": 0,
  "metadata": {
    "colab": {
      "name": "cifar_10_87.ipynb",
      "version": "0.3.2",
      "views": {},
      "default_view": {},
      "provenance": []
    },
    "kernelspec": {
      "name": "python2",
      "display_name": "Python 2"
    },
    "accelerator": "GPU"
  },
  "cells": [
    {
      "metadata": {
        "id": "V6_XOFz1BrgA",
        "colab_type": "code",
        "colab": {
          "autoexec": {
            "startup": false,
            "wait_interval": 0
          },
          "base_uri": "https://localhost:8080/",
          "height": 115
        },
        "outputId": "b8d50391-7f9e-49e5-fe4e-7c4e36ef886d",
        "executionInfo": {
          "status": "ok",
          "timestamp": 1531743718419,
          "user_tz": -330,
          "elapsed": 24265,
          "user": {
            "displayName": "Saloni Jain",
            "photoUrl": "https://lh3.googleusercontent.com/a/default-user=s128",
            "userId": "104379084192678848103"
          }
        }
      },
      "cell_type": "code",
      "source": [
        "!apt-get install -y -qq software-properties-common python-software-properties module-init-tools\n",
        "!add-apt-repository -y ppa:alessandro-strada/ppa 2>&1 > /dev/null\n",
        "!apt-get update -qq 2>&1 > /dev/null\n",
        "!apt-get -y install -qq google-drive-ocamlfuse fuse\n",
        "from google.colab import auth\n",
        "auth.authenticate_user()\n",
        "from oauth2client.client import GoogleCredentials\n",
        "creds = GoogleCredentials.get_application_default()\n",
        "import getpass\n",
        "!google-drive-ocamlfuse -headless -id={creds.client_id} -secret={creds.client_secret} < /dev/null 2>&1 | grep URL\n",
        "vcode = getpass.getpass()\n",
        "!echo {vcode} | google-drive-ocamlfuse -headless -id={creds.client_id} -secret={creds.client_secret}\n",
        "\n",
        "!mkdir -p drive\n",
        "!google-drive-ocamlfuse drive"
      ],
      "execution_count": 1,
      "outputs": [
        {
          "output_type": "stream",
          "text": [
            "Please, open the following URL in a web browser: https://accounts.google.com/o/oauth2/auth?client_id=32555940559.apps.googleusercontent.com&redirect_uri=urn%3Aietf%3Awg%3Aoauth%3A2.0%3Aoob&scope=https%3A%2F%2Fwww.googleapis.com%2Fauth%2Fdrive&response_type=code&access_type=offline&approval_prompt=force\r\n",
            "··········\n",
            "Please, open the following URL in a web browser: https://accounts.google.com/o/oauth2/auth?client_id=32555940559.apps.googleusercontent.com&redirect_uri=urn%3Aietf%3Awg%3Aoauth%3A2.0%3Aoob&scope=https%3A%2F%2Fwww.googleapis.com%2Fauth%2Fdrive&response_type=code&access_type=offline&approval_prompt=force\n",
            "Please enter the verification code: Access token retrieved correctly.\n"
          ],
          "name": "stdout"
        }
      ]
    },
    {
      "metadata": {
        "id": "No6nZUgKIm9e",
        "colab_type": "code",
        "colab": {
          "autoexec": {
            "startup": false,
            "wait_interval": 0
          }
        }
      },
      "cell_type": "code",
      "source": [
        "folder='./drive/ML/Cifar-10/cifar-10-batches-py'"
      ],
      "execution_count": 0,
      "outputs": []
    },
    {
      "metadata": {
        "id": "SAUDVaYxJvLG",
        "colab_type": "code",
        "colab": {
          "autoexec": {
            "startup": false,
            "wait_interval": 0
          }
        }
      },
      "cell_type": "code",
      "source": [
        "import pandas as pd\n",
        "import numpy as np\n",
        "import os\n",
        "import pickle\n"
      ],
      "execution_count": 0,
      "outputs": []
    },
    {
      "metadata": {
        "id": "HmMvC9NUJ22g",
        "colab_type": "code",
        "colab": {
          "autoexec": {
            "startup": false,
            "wait_interval": 0
          }
        }
      },
      "cell_type": "code",
      "source": [
        "def unpickle(file):\n",
        "  \n",
        "  '''Load byte data from file'''\n",
        "  with open(file, 'rb') as f:\n",
        "    data = pickle.load(f)\n",
        "    return data\n",
        "\n",
        "\n",
        "def load_cifar10_data(data_dir):\n",
        "  '''Return train_data, train_labels, test_data, test_labels\n",
        "   The shape of data is 32 x 32 x3'''\n",
        "    \n",
        "  train_data = None\n",
        "  train_labels = []\n",
        "\n",
        "  for i in range(1, 6):\n",
        "    data_dic = unpickle(data_dir + \"/data_batch_{}\".format(i))\n",
        "    if i == 1:\n",
        "      train_data = data_dic['data']\n",
        "    else:\n",
        "      train_data = np.vstack((train_data, data_dic['data']))\n",
        "    train_labels += data_dic['labels']\n",
        "  test_data_dic = unpickle(data_dir + \"/test_batch\")\n",
        "  test_data = test_data_dic['data']\n",
        "  test_labels = test_data_dic['labels']\n",
        "\n",
        "  train_data = train_data.reshape((len(train_data), 3, 32, 32))\n",
        "  train_data = np.rollaxis(train_data, 1, 4)\n",
        "  train_labels = np.array(train_labels)\n",
        "\n",
        "  test_data = test_data.reshape((len(test_data), 3, 32, 32))\n",
        "  test_data = np.rollaxis(test_data, 1, 4)\n",
        "  test_labels = np.array(test_labels)\n",
        "\n",
        "  return train_data, train_labels, test_data, test_labels"
      ],
      "execution_count": 0,
      "outputs": []
    },
    {
      "metadata": {
        "id": "HtcDJYu4Qgk-",
        "colab_type": "code",
        "colab": {
          "autoexec": {
            "startup": false,
            "wait_interval": 0
          }
        }
      },
      "cell_type": "code",
      "source": [
        "train_data, train_labels, test_data, test_labels = load_cifar10_data(folder)\n"
      ],
      "execution_count": 0,
      "outputs": []
    },
    {
      "metadata": {
        "id": "ICO9vaN0Qg04",
        "colab_type": "code",
        "colab": {
          "autoexec": {
            "startup": false,
            "wait_interval": 0
          },
          "base_uri": "https://localhost:8080/",
          "height": 85
        },
        "outputId": "dee2f525-1268-4cc6-af38-5d31a8a3f1a4",
        "executionInfo": {
          "status": "ok",
          "timestamp": 1531743810581,
          "user_tz": -330,
          "elapsed": 954,
          "user": {
            "displayName": "Saloni Jain",
            "photoUrl": "https://lh3.googleusercontent.com/a/default-user=s128",
            "userId": "104379084192678848103"
          }
        }
      },
      "cell_type": "code",
      "source": [
        "print(train_data.shape)\n",
        "print(train_labels.shape)\n",
        "\n",
        "print(test_data.shape)\n",
        "print(test_labels.shape)\n"
      ],
      "execution_count": 6,
      "outputs": [
        {
          "output_type": "stream",
          "text": [
            "(50000, 32, 32, 3)\n",
            "(50000,)\n",
            "(10000, 32, 32, 3)\n",
            "(10000,)\n"
          ],
          "name": "stdout"
        }
      ]
    },
    {
      "metadata": {
        "id": "3ILHh829UwAk",
        "colab_type": "code",
        "colab": {
          "autoexec": {
            "startup": false,
            "wait_interval": 0
          },
          "base_uri": "https://localhost:8080/",
          "height": 34
        },
        "outputId": "76d7099e-0180-48b7-ed9c-28d3f9351e3c",
        "executionInfo": {
          "status": "ok",
          "timestamp": 1531743821350,
          "user_tz": -330,
          "elapsed": 9166,
          "user": {
            "displayName": "Saloni Jain",
            "photoUrl": "https://lh3.googleusercontent.com/a/default-user=s128",
            "userId": "104379084192678848103"
          }
        }
      },
      "cell_type": "code",
      "source": [
        "import keras"
      ],
      "execution_count": 7,
      "outputs": [
        {
          "output_type": "stream",
          "text": [
            "Using TensorFlow backend.\n"
          ],
          "name": "stderr"
        }
      ]
    },
    {
      "metadata": {
        "id": "ltr9SdHFQ-JZ",
        "colab_type": "code",
        "colab": {
          "autoexec": {
            "startup": false,
            "wait_interval": 0
          }
        }
      },
      "cell_type": "code",
      "source": [
        "y_train=np.asarray(train_labels).reshape(-1,1)\n",
        "y_train=keras.utils.to_categorical(y_train,num_classes=10)\n",
        "\n",
        "y_test=np.asarray(test_labels).reshape(-1,1)\n",
        "y_test=keras.utils.to_categorical(y_test,num_classes=10)\n",
        "\n"
      ],
      "execution_count": 0,
      "outputs": []
    },
    {
      "metadata": {
        "id": "HZ_Z-7fGdM4j",
        "colab_type": "code",
        "colab": {
          "autoexec": {
            "startup": false,
            "wait_interval": 0
          }
        }
      },
      "cell_type": "code",
      "source": [
        "x_train=train_data.astype('float')\n",
        "x_test=test_data.astype('float')\n",
        "x_train/=255.0\n",
        "x_test/=255.0"
      ],
      "execution_count": 0,
      "outputs": []
    },
    {
      "metadata": {
        "id": "GyXTvUnBUBSo",
        "colab_type": "code",
        "colab": {
          "autoexec": {
            "startup": false,
            "wait_interval": 0
          }
        }
      },
      "cell_type": "code",
      "source": [
        "from keras.layers import Conv2D,MaxPooling2D,Dense,Flatten,Dropout,Input,AveragePooling2D,BatchNormalization,Activation,GlobalAveragePooling2D\n",
        "from keras.models import Model\n",
        "from keras.optimizers import SGD,Adam\n",
        "from keras.losses import binary_crossentropy,categorical_crossentropy\n",
        "from keras.preprocessing.image import ImageDataGenerator"
      ],
      "execution_count": 0,
      "outputs": []
    },
    {
      "metadata": {
        "id": "2-16pJ0XXwLO",
        "colab_type": "code",
        "colab": {
          "autoexec": {
            "startup": false,
            "wait_interval": 0
          },
          "base_uri": "https://localhost:8080/",
          "height": 81
        },
        "outputId": "6b15b1b5-63b7-453e-9488-1c1f4ad1f67f",
        "executionInfo": {
          "status": "ok",
          "timestamp": 1531743849937,
          "user_tz": -330,
          "elapsed": 3626,
          "user": {
            "displayName": "Saloni Jain",
            "photoUrl": "https://lh3.googleusercontent.com/a/default-user=s128",
            "userId": "104379084192678848103"
          }
        }
      },
      "cell_type": "code",
      "source": [
        "datagen=ImageDataGenerator(featurewise_std_normalization=True,horizontal_flip=True)\n",
        "datagen.fit(x_train)\n",
        "train_gen=datagen.flow(x_train,y_train,batch_size=256,shuffle=True)\n",
        "test_gen=datagen.flow(x_test,y_test,batch_size=256,shuffle=True)"
      ],
      "execution_count": 11,
      "outputs": [
        {
          "output_type": "stream",
          "text": [
            "/usr/local/lib/python2.7/dist-packages/keras/preprocessing/image.py:657: UserWarning: This ImageDataGenerator specifies `featurewise_std_normalization`, which overrides setting of `featurewise_center`.\n",
            "  warnings.warn('This ImageDataGenerator specifies '\n"
          ],
          "name": "stderr"
        }
      ]
    },
    {
      "metadata": {
        "id": "oPIWXWHfa4ki",
        "colab_type": "code",
        "colab": {
          "autoexec": {
            "startup": false,
            "wait_interval": 0
          }
        }
      },
      "cell_type": "code",
      "source": [
        "def make_model():\n",
        "    inputs=Input(shape=(32,32,3))\n",
        "    l=inputs\n",
        "    l=Conv2D(filters=32,kernel_size=(3,3),strides=(1,1),padding='same')(l)\n",
        "    l=BatchNormalization()(l)\n",
        "    l=Activation('relu')(l)\n",
        "    l=Conv2D(filters=32,kernel_size=(3,3),strides=(1,1),padding='same')(l)\n",
        "    l=BatchNormalization()(l)\n",
        "    l=Activation('relu')(l)\n",
        "    l=Conv2D(filters=32,kernel_size=(3,3),strides=(1,1),padding='same')(l)\n",
        "    l=BatchNormalization()(l)\n",
        "    l=Activation('relu')(l)\n",
        "    l=Conv2D(filters=32,kernel_size=(3,3),strides=(1,1),padding='same')(l)\n",
        "    l=BatchNormalization()(l)\n",
        "    l=Activation('relu')(l)\n",
        "    l=MaxPooling2D(pool_size=(2,2))(l)\n",
        "    \n",
        "    l=Conv2D(filters=64,kernel_size=(3,3),strides=(1,1),padding='same')(l)\n",
        "    l=BatchNormalization()(l)\n",
        "    l=Activation('relu')(l)\n",
        "    l=Conv2D(filters=64,kernel_size=(3,3),strides=(1,1),padding='same')(l)\n",
        "    l=BatchNormalization()(l)\n",
        "    l=Activation('relu')(l)\n",
        "    l=Conv2D(filters=64,kernel_size=(3,3),strides=(1,1),padding='same')(l)\n",
        "    l=BatchNormalization()(l)\n",
        "    l=Activation('relu')(l)\n",
        "    l=MaxPooling2D(pool_size=(2,2))(l)\n",
        "    \n",
        "    l=Conv2D(filters=96,kernel_size=(3,3),strides=(1,1),padding='same')(l)\n",
        "    l=BatchNormalization()(l)\n",
        "    l=Activation('relu')(l)\n",
        "    l=Conv2D(filters=96,kernel_size=(3,3),strides=(1,1),padding='same')(l)\n",
        "    l=BatchNormalization()(l)\n",
        "    l=Activation('relu')(l)\n",
        "    l=Conv2D(filters=96,kernel_size=(3,3),strides=(1,1),padding='same')(l)\n",
        "    l=BatchNormalization()(l)\n",
        "    l=Activation('relu')(l)\n",
        "    l=MaxPooling2D(pool_size=(2,2))(l)\n",
        "    \n",
        "    l=Conv2D(filters=128,kernel_size=(3,3),strides=(1,1),padding='same')(l)\n",
        "    l=BatchNormalization()(l)\n",
        "    l=Activation('relu')(l)\n",
        "    l=Conv2D(filters=128,kernel_size=(3,3),strides=(1,1),padding='same')(l)\n",
        "    l=BatchNormalization()(l)\n",
        "    l=Activation('relu')(l)\n",
        "    l=Conv2D(filters=128,kernel_size=(3,3),strides=(1,1),padding='same')(l)\n",
        "    l=BatchNormalization()(l)\n",
        "    l=Activation('relu')(l)\n",
        "    l=MaxPooling2D(pool_size=(2,2))(l)\n",
        "    \n",
        "    l=Conv2D(filters=196,kernel_size=(3,3),strides=(1,1),padding='same')(l)\n",
        "    l=BatchNormalization()(l)\n",
        "    l=Activation('relu')(l)\n",
        "    l=Conv2D(filters=196,kernel_size=(3,3),strides=(1,1),padding='same')(l)\n",
        "    l=BatchNormalization()(l)\n",
        "    l=Activation('relu')(l)\n",
        "    l=Conv2D(filters=196,kernel_size=(3,3),strides=(1,1),padding='same')(l)\n",
        "    l=BatchNormalization()(l)\n",
        "    l=Activation('relu')(l)\n",
        "    l=MaxPooling2D(pool_size=(2,2))(l)\n",
        "    \n",
        "    l=GlobalAveragePooling2D()(l)\n",
        "    l=Dropout(0.4)(l)\n",
        "    l=Dense(256,activation='relu')(l)\n",
        "    l=Dropout(0.4)(l)\n",
        "    l=Dense(128,activation='relu')(l)\n",
        "    l=Dense(10,activation='softmax')(l)\n",
        "    outputs=l\n",
        "    return inputs,outputs"
      ],
      "execution_count": 0,
      "outputs": []
    },
    {
      "metadata": {
        "id": "gfRKqdvjD8Pd",
        "colab_type": "code",
        "colab": {
          "autoexec": {
            "startup": false,
            "wait_interval": 0
          },
          "base_uri": "https://localhost:8080/",
          "height": 34
        },
        "outputId": "b6d91277-1e09-4279-e649-7c536e5b678d",
        "executionInfo": {
          "status": "ok",
          "timestamp": 1531744093462,
          "user_tz": -330,
          "elapsed": 1239,
          "user": {
            "displayName": "Saloni Jain",
            "photoUrl": "https://lh3.googleusercontent.com/a/default-user=s128",
            "userId": "104379084192678848103"
          }
        }
      },
      "cell_type": "code",
      "source": [
        "train_labels[1]"
      ],
      "execution_count": 13,
      "outputs": [
        {
          "output_type": "execute_result",
          "data": {
            "text/plain": [
              "9"
            ]
          },
          "metadata": {
            "tags": []
          },
          "execution_count": 13
        }
      ]
    },
    {
      "metadata": {
        "id": "Oy-p0YQTZgcp",
        "colab_type": "code",
        "colab": {
          "autoexec": {
            "startup": false,
            "wait_interval": 0
          },
          "base_uri": "https://localhost:8080/",
          "height": 2176
        },
        "outputId": "4d4f2917-68e4-4a4c-9c7e-0fb1475a1ff2",
        "executionInfo": {
          "status": "ok",
          "timestamp": 1531746240238,
          "user_tz": -330,
          "elapsed": 3717,
          "user": {
            "displayName": "Saloni Jain",
            "photoUrl": "https://lh3.googleusercontent.com/a/default-user=s128",
            "userId": "104379084192678848103"
          }
        }
      },
      "cell_type": "code",
      "source": [
        "inputs,outputs=make_model()\n",
        "model=Model(inputs=inputs,outputs=outputs)\n",
        "model.summary()"
      ],
      "execution_count": 21,
      "outputs": [
        {
          "output_type": "stream",
          "text": [
            "_________________________________________________________________\n",
            "Layer (type)                 Output Shape              Param #   \n",
            "=================================================================\n",
            "input_2 (InputLayer)         (None, 32, 32, 3)         0         \n",
            "_________________________________________________________________\n",
            "conv2d_17 (Conv2D)           (None, 32, 32, 32)        896       \n",
            "_________________________________________________________________\n",
            "batch_normalization_17 (Batc (None, 32, 32, 32)        128       \n",
            "_________________________________________________________________\n",
            "activation_17 (Activation)   (None, 32, 32, 32)        0         \n",
            "_________________________________________________________________\n",
            "conv2d_18 (Conv2D)           (None, 32, 32, 32)        9248      \n",
            "_________________________________________________________________\n",
            "batch_normalization_18 (Batc (None, 32, 32, 32)        128       \n",
            "_________________________________________________________________\n",
            "activation_18 (Activation)   (None, 32, 32, 32)        0         \n",
            "_________________________________________________________________\n",
            "conv2d_19 (Conv2D)           (None, 32, 32, 32)        9248      \n",
            "_________________________________________________________________\n",
            "batch_normalization_19 (Batc (None, 32, 32, 32)        128       \n",
            "_________________________________________________________________\n",
            "activation_19 (Activation)   (None, 32, 32, 32)        0         \n",
            "_________________________________________________________________\n",
            "conv2d_20 (Conv2D)           (None, 32, 32, 32)        9248      \n",
            "_________________________________________________________________\n",
            "batch_normalization_20 (Batc (None, 32, 32, 32)        128       \n",
            "_________________________________________________________________\n",
            "activation_20 (Activation)   (None, 32, 32, 32)        0         \n",
            "_________________________________________________________________\n",
            "max_pooling2d_6 (MaxPooling2 (None, 16, 16, 32)        0         \n",
            "_________________________________________________________________\n",
            "conv2d_21 (Conv2D)           (None, 16, 16, 64)        18496     \n",
            "_________________________________________________________________\n",
            "batch_normalization_21 (Batc (None, 16, 16, 64)        256       \n",
            "_________________________________________________________________\n",
            "activation_21 (Activation)   (None, 16, 16, 64)        0         \n",
            "_________________________________________________________________\n",
            "conv2d_22 (Conv2D)           (None, 16, 16, 64)        36928     \n",
            "_________________________________________________________________\n",
            "batch_normalization_22 (Batc (None, 16, 16, 64)        256       \n",
            "_________________________________________________________________\n",
            "activation_22 (Activation)   (None, 16, 16, 64)        0         \n",
            "_________________________________________________________________\n",
            "conv2d_23 (Conv2D)           (None, 16, 16, 64)        36928     \n",
            "_________________________________________________________________\n",
            "batch_normalization_23 (Batc (None, 16, 16, 64)        256       \n",
            "_________________________________________________________________\n",
            "activation_23 (Activation)   (None, 16, 16, 64)        0         \n",
            "_________________________________________________________________\n",
            "max_pooling2d_7 (MaxPooling2 (None, 8, 8, 64)          0         \n",
            "_________________________________________________________________\n",
            "conv2d_24 (Conv2D)           (None, 8, 8, 96)          55392     \n",
            "_________________________________________________________________\n",
            "batch_normalization_24 (Batc (None, 8, 8, 96)          384       \n",
            "_________________________________________________________________\n",
            "activation_24 (Activation)   (None, 8, 8, 96)          0         \n",
            "_________________________________________________________________\n",
            "conv2d_25 (Conv2D)           (None, 8, 8, 96)          83040     \n",
            "_________________________________________________________________\n",
            "batch_normalization_25 (Batc (None, 8, 8, 96)          384       \n",
            "_________________________________________________________________\n",
            "activation_25 (Activation)   (None, 8, 8, 96)          0         \n",
            "_________________________________________________________________\n",
            "conv2d_26 (Conv2D)           (None, 8, 8, 96)          83040     \n",
            "_________________________________________________________________\n",
            "batch_normalization_26 (Batc (None, 8, 8, 96)          384       \n",
            "_________________________________________________________________\n",
            "activation_26 (Activation)   (None, 8, 8, 96)          0         \n",
            "_________________________________________________________________\n",
            "max_pooling2d_8 (MaxPooling2 (None, 4, 4, 96)          0         \n",
            "_________________________________________________________________\n",
            "conv2d_27 (Conv2D)           (None, 4, 4, 128)         110720    \n",
            "_________________________________________________________________\n",
            "batch_normalization_27 (Batc (None, 4, 4, 128)         512       \n",
            "_________________________________________________________________\n",
            "activation_27 (Activation)   (None, 4, 4, 128)         0         \n",
            "_________________________________________________________________\n",
            "conv2d_28 (Conv2D)           (None, 4, 4, 128)         147584    \n",
            "_________________________________________________________________\n",
            "batch_normalization_28 (Batc (None, 4, 4, 128)         512       \n",
            "_________________________________________________________________\n",
            "activation_28 (Activation)   (None, 4, 4, 128)         0         \n",
            "_________________________________________________________________\n",
            "conv2d_29 (Conv2D)           (None, 4, 4, 128)         147584    \n",
            "_________________________________________________________________\n",
            "batch_normalization_29 (Batc (None, 4, 4, 128)         512       \n",
            "_________________________________________________________________\n",
            "activation_29 (Activation)   (None, 4, 4, 128)         0         \n",
            "_________________________________________________________________\n",
            "max_pooling2d_9 (MaxPooling2 (None, 2, 2, 128)         0         \n",
            "_________________________________________________________________\n",
            "conv2d_30 (Conv2D)           (None, 2, 2, 196)         225988    \n",
            "_________________________________________________________________\n",
            "batch_normalization_30 (Batc (None, 2, 2, 196)         784       \n",
            "_________________________________________________________________\n",
            "activation_30 (Activation)   (None, 2, 2, 196)         0         \n",
            "_________________________________________________________________\n",
            "conv2d_31 (Conv2D)           (None, 2, 2, 196)         345940    \n",
            "_________________________________________________________________\n",
            "batch_normalization_31 (Batc (None, 2, 2, 196)         784       \n",
            "_________________________________________________________________\n",
            "activation_31 (Activation)   (None, 2, 2, 196)         0         \n",
            "_________________________________________________________________\n",
            "conv2d_32 (Conv2D)           (None, 2, 2, 196)         345940    \n",
            "_________________________________________________________________\n",
            "batch_normalization_32 (Batc (None, 2, 2, 196)         784       \n",
            "_________________________________________________________________\n",
            "activation_32 (Activation)   (None, 2, 2, 196)         0         \n",
            "_________________________________________________________________\n",
            "max_pooling2d_10 (MaxPooling (None, 1, 1, 196)         0         \n",
            "_________________________________________________________________\n",
            "global_average_pooling2d_2 ( (None, 196)               0         \n",
            "_________________________________________________________________\n",
            "dropout_3 (Dropout)          (None, 196)               0         \n",
            "_________________________________________________________________\n",
            "dense_4 (Dense)              (None, 256)               50432     \n",
            "_________________________________________________________________\n",
            "dropout_4 (Dropout)          (None, 256)               0         \n",
            "_________________________________________________________________\n",
            "dense_5 (Dense)              (None, 128)               32896     \n",
            "_________________________________________________________________\n",
            "dense_6 (Dense)              (None, 10)                1290      \n",
            "=================================================================\n",
            "Total params: 1,757,158\n",
            "Trainable params: 1,753,998\n",
            "Non-trainable params: 3,160\n",
            "_________________________________________________________________\n"
          ],
          "name": "stdout"
        }
      ]
    },
    {
      "metadata": {
        "id": "jP9BSIP4fLl5",
        "colab_type": "code",
        "colab": {
          "autoexec": {
            "startup": false,
            "wait_interval": 0
          }
        }
      },
      "cell_type": "code",
      "source": [
        "optim=Adam(1e-3)\n",
        "loss=categorical_crossentropy\n",
        "model.compile(optim,loss,metrics=['accuracy'])"
      ],
      "execution_count": 0,
      "outputs": []
    },
    {
      "metadata": {
        "id": "fe_zsKVsdVR2",
        "colab_type": "code",
        "colab": {
          "autoexec": {
            "startup": false,
            "wait_interval": 0
          },
          "base_uri": "https://localhost:8080/",
          "height": 8050
        },
        "outputId": "3558d4eb-6c99-4cbe-bdcb-8b26f4a4fe27",
        "executionInfo": {
          "status": "ok",
          "timestamp": 1531747084346,
          "user_tz": -330,
          "elapsed": 840985,
          "user": {
            "displayName": "Saloni Jain",
            "photoUrl": "https://lh3.googleusercontent.com/a/default-user=s128",
            "userId": "104379084192678848103"
          }
        }
      },
      "cell_type": "code",
      "source": [
        "model.fit_generator(train_gen,validation_data=test_gen,steps_per_epoch=len(x_train)/256,validation_steps=len(x_test)/256,epochs=20,verbose=1)"
      ],
      "execution_count": 23,
      "outputs": [
        {
          "output_type": "stream",
          "text": [
            "Epoch 1/20\n",
            "195/195 [==============================] - 50s 257ms/step - loss: 1.8486 - acc: 0.2867 - val_loss: 1.7418 - val_acc: 0.4123\n",
            "Epoch 2/20\n",
            "195/195 [==============================] - 41s 208ms/step - loss: 1.2661 - acc: 0.5364 - val_loss: 2.0068 - val_acc: 0.4780\n",
            "Epoch 3/20\n",
            " 99/195 [==============>...............] - ETA: 18s - loss: 1.0010 - acc: 0.6484"
          ],
          "name": "stdout"
        },
        {
          "output_type": "stream",
          "text": [
            "195/195 [==============================] - 40s 204ms/step - loss: 0.9559 - acc: 0.6687 - val_loss: 2.1984 - val_acc: 0.4986\n",
            "Epoch 4/20\n",
            "195/195 [==============================] - 40s 207ms/step - loss: 0.7979 - acc: 0.7290 - val_loss: 4.1382 - val_acc: 0.4146\n",
            "Epoch 5/20\n",
            "136/195 [===================>..........] - ETA: 11s - loss: 0.7113 - acc: 0.7636"
          ],
          "name": "stdout"
        },
        {
          "output_type": "stream",
          "text": [
            "195/195 [==============================] - 40s 205ms/step - loss: 0.7057 - acc: 0.7649 - val_loss: 1.0995 - val_acc: 0.6626\n",
            "Epoch 6/20\n",
            "195/195 [==============================] - 40s 205ms/step - loss: 0.6243 - acc: 0.7955 - val_loss: 0.7497 - val_acc: 0.7620\n",
            "Epoch 7/20\n",
            "145/195 [=====================>........] - ETA: 9s - loss: 0.5643 - acc: 0.8137"
          ],
          "name": "stdout"
        },
        {
          "output_type": "stream",
          "text": [
            "195/195 [==============================] - 41s 210ms/step - loss: 0.5601 - acc: 0.8156 - val_loss: 0.7827 - val_acc: 0.7513\n",
            "Epoch 8/20\n",
            "195/195 [==============================] - 41s 212ms/step - loss: 0.5114 - acc: 0.8325 - val_loss: 0.9040 - val_acc: 0.7207\n",
            "Epoch 9/20\n",
            "143/195 [=====================>........] - ETA: 10s - loss: 0.4641 - acc: 0.8509"
          ],
          "name": "stdout"
        },
        {
          "output_type": "stream",
          "text": [
            "195/195 [==============================] - 42s 213ms/step - loss: 0.4651 - acc: 0.8496 - val_loss: 1.7764 - val_acc: 0.6196\n",
            "Epoch 10/20\n",
            "195/195 [==============================] - 41s 211ms/step - loss: 0.4295 - acc: 0.8602 - val_loss: 0.6508 - val_acc: 0.7930\n",
            "Epoch 11/20\n",
            "142/195 [====================>.........] - ETA: 10s - loss: 0.3952 - acc: 0.8715"
          ],
          "name": "stdout"
        },
        {
          "output_type": "stream",
          "text": [
            "195/195 [==============================] - 42s 213ms/step - loss: 0.3979 - acc: 0.8714 - val_loss: 0.5809 - val_acc: 0.8197\n",
            "Epoch 12/20\n",
            "195/195 [==============================] - 42s 215ms/step - loss: 0.3688 - acc: 0.8799 - val_loss: 0.6266 - val_acc: 0.8017\n",
            "Epoch 13/20\n",
            "134/195 [===================>..........] - ETA: 12s - loss: 0.3408 - acc: 0.8885"
          ],
          "name": "stdout"
        },
        {
          "output_type": "stream",
          "text": [
            "195/195 [==============================] - 43s 223ms/step - loss: 0.3451 - acc: 0.8878 - val_loss: 0.6348 - val_acc: 0.8111\n",
            "Epoch 14/20\n",
            "195/195 [==============================] - 44s 225ms/step - loss: 0.3142 - acc: 0.8978 - val_loss: 0.6666 - val_acc: 0.8020\n",
            "Epoch 15/20\n",
            "136/195 [===================>..........] - ETA: 12s - loss: 0.3017 - acc: 0.9020"
          ],
          "name": "stdout"
        },
        {
          "output_type": "stream",
          "text": [
            "195/195 [==============================] - 44s 224ms/step - loss: 0.3057 - acc: 0.9009 - val_loss: 0.6808 - val_acc: 0.7944\n",
            "Epoch 16/20\n",
            "195/195 [==============================] - 42s 218ms/step - loss: 0.2796 - acc: 0.9092 - val_loss: 0.6075 - val_acc: 0.8120\n",
            "Epoch 17/20\n",
            "135/195 [===================>..........] - ETA: 11s - loss: 0.2566 - acc: 0.9184"
          ],
          "name": "stdout"
        },
        {
          "output_type": "stream",
          "text": [
            "195/195 [==============================] - 41s 209ms/step - loss: 0.2648 - acc: 0.9152 - val_loss: 0.5815 - val_acc: 0.8257\n",
            "Epoch 18/20\n",
            "195/195 [==============================] - 41s 211ms/step - loss: 0.2500 - acc: 0.9193 - val_loss: 0.6646 - val_acc: 0.8112\n",
            "Epoch 19/20\n",
            "138/195 [====================>.........] - ETA: 11s - loss: 0.2276 - acc: 0.9265"
          ],
          "name": "stdout"
        },
        {
          "output_type": "stream",
          "text": [
            "195/195 [==============================] - 41s 208ms/step - loss: 0.2335 - acc: 0.9255 - val_loss: 0.7844 - val_acc: 0.7896\n",
            "Epoch 20/20\n",
            "195/195 [==============================] - 41s 208ms/step - loss: 0.2134 - acc: 0.9312 - val_loss: 0.6841 - val_acc: 0.8107\n"
          ],
          "name": "stdout"
        },
        {
          "output_type": "execute_result",
          "data": {
            "text/plain": [
              "<keras.callbacks.History at 0x7fbe5e640510>"
            ]
          },
          "metadata": {
            "tags": []
          },
          "execution_count": 23
        }
      ]
    },
    {
      "metadata": {
        "id": "_mCROqrCQBcp",
        "colab_type": "code",
        "colab": {
          "autoexec": {
            "startup": false,
            "wait_interval": 0
          }
        }
      },
      "cell_type": "code",
      "source": [
        "import keras.backend as k"
      ],
      "execution_count": 0,
      "outputs": []
    },
    {
      "metadata": {
        "id": "4Wk895fFQG2E",
        "colab_type": "code",
        "colab": {
          "autoexec": {
            "startup": false,
            "wait_interval": 0
          }
        }
      },
      "cell_type": "code",
      "source": [
        "k.set_value(model.optimizer.lr,1e-4)"
      ],
      "execution_count": 0,
      "outputs": []
    },
    {
      "metadata": {
        "id": "eT1wq7RNCfng",
        "colab_type": "code",
        "colab": {
          "autoexec": {
            "startup": false,
            "wait_interval": 0
          },
          "base_uri": "https://localhost:8080/",
          "height": 5790
        },
        "outputId": "2c226a3c-af19-4dc8-d63a-c89de6dc74f4",
        "executionInfo": {
          "status": "ok",
          "timestamp": 1531747923374,
          "user_tz": -330,
          "elapsed": 617028,
          "user": {
            "displayName": "Saloni Jain",
            "photoUrl": "https://lh3.googleusercontent.com/a/default-user=s128",
            "userId": "104379084192678848103"
          }
        }
      },
      "cell_type": "code",
      "source": [
        "model.fit_generator(train_gen,validation_data=test_gen,steps_per_epoch=len(x_train)/256,validation_steps=len(x_test)/256,epochs=15,verbose=1)"
      ],
      "execution_count": 27,
      "outputs": [
        {
          "output_type": "stream",
          "text": [
            "Epoch 1/15\n",
            "195/195 [==============================] - 41s 208ms/step - loss: 0.1361 - acc: 0.9587 - val_loss: 0.4491 - val_acc: 0.8688\n",
            "Epoch 2/15\n",
            "195/195 [==============================] - 42s 215ms/step - loss: 0.0978 - acc: 0.9697 - val_loss: 0.4646 - val_acc: 0.8739\n",
            "Epoch 3/15\n",
            " 99/195 [==============>...............] - ETA: 19s - loss: 0.0820 - acc: 0.9749"
          ],
          "name": "stdout"
        },
        {
          "output_type": "stream",
          "text": [
            "195/195 [==============================] - 42s 215ms/step - loss: 0.0795 - acc: 0.9764 - val_loss: 0.5002 - val_acc: 0.8743\n",
            "Epoch 4/15\n",
            "195/195 [==============================] - 42s 216ms/step - loss: 0.0737 - acc: 0.9779 - val_loss: 0.5159 - val_acc: 0.8740\n",
            "Epoch 5/15\n",
            "118/195 [=================>............] - ETA: 15s - loss: 0.0628 - acc: 0.9819"
          ],
          "name": "stdout"
        },
        {
          "output_type": "stream",
          "text": [
            "195/195 [==============================] - 41s 209ms/step - loss: 0.0628 - acc: 0.9818 - val_loss: 0.5215 - val_acc: 0.8747\n",
            "Epoch 6/15\n",
            "195/195 [==============================] - 40s 204ms/step - loss: 0.0547 - acc: 0.9835 - val_loss: 0.5597 - val_acc: 0.8743\n",
            "Epoch 7/15\n",
            "140/195 [====================>.........] - ETA: 10s - loss: 0.0517 - acc: 0.9844"
          ],
          "name": "stdout"
        },
        {
          "output_type": "stream",
          "text": [
            "195/195 [==============================] - 41s 208ms/step - loss: 0.0511 - acc: 0.9845 - val_loss: 0.5856 - val_acc: 0.8768\n",
            "Epoch 8/15\n",
            "195/195 [==============================] - 40s 205ms/step - loss: 0.0449 - acc: 0.9867 - val_loss: 0.6189 - val_acc: 0.8711\n",
            "Epoch 9/15\n",
            "152/195 [======================>.......] - ETA: 8s - loss: 0.0407 - acc: 0.9880"
          ],
          "name": "stdout"
        },
        {
          "output_type": "stream",
          "text": [
            "195/195 [==============================] - 40s 204ms/step - loss: 0.0405 - acc: 0.9879 - val_loss: 0.5985 - val_acc: 0.8779\n",
            "Epoch 10/15\n",
            "195/195 [==============================] - 42s 213ms/step - loss: 0.0338 - acc: 0.9902 - val_loss: 0.6524 - val_acc: 0.8713\n",
            "Epoch 11/15\n",
            "134/195 [===================>..........] - ETA: 12s - loss: 0.0311 - acc: 0.9913"
          ],
          "name": "stdout"
        },
        {
          "output_type": "stream",
          "text": [
            "195/195 [==============================] - 42s 218ms/step - loss: 0.0313 - acc: 0.9912 - val_loss: 0.6706 - val_acc: 0.8762\n",
            "Epoch 12/15\n",
            "195/195 [==============================] - 42s 217ms/step - loss: 0.0285 - acc: 0.9915 - val_loss: 0.7005 - val_acc: 0.8699\n",
            "Epoch 13/15\n",
            "144/195 [=====================>........] - ETA: 9s - loss: 0.0254 - acc: 0.9925 "
          ],
          "name": "stdout"
        },
        {
          "output_type": "stream",
          "text": [
            "195/195 [==============================] - 41s 208ms/step - loss: 0.0260 - acc: 0.9921 - val_loss: 0.7536 - val_acc: 0.8721\n",
            "Epoch 14/15\n",
            "195/195 [==============================] - 41s 209ms/step - loss: 0.0245 - acc: 0.9928 - val_loss: 0.7266 - val_acc: 0.8756\n",
            "Epoch 15/15\n",
            "139/195 [====================>.........] - ETA: 10s - loss: 0.0222 - acc: 0.9937"
          ],
          "name": "stdout"
        },
        {
          "output_type": "stream",
          "text": [
            "195/195 [==============================] - 41s 209ms/step - loss: 0.0232 - acc: 0.9934 - val_loss: 0.7592 - val_acc: 0.8704\n"
          ],
          "name": "stdout"
        },
        {
          "output_type": "execute_result",
          "data": {
            "text/plain": [
              "<keras.callbacks.History at 0x7fbe6243bdd0>"
            ]
          },
          "metadata": {
            "tags": []
          },
          "execution_count": 27
        }
      ]
    },
    {
      "metadata": {
        "id": "oAgK0j4Mh__B",
        "colab_type": "code",
        "colab": {
          "autoexec": {
            "startup": false,
            "wait_interval": 0
          },
          "base_uri": "https://localhost:8080/",
          "height": 3905
        },
        "outputId": "4841d01e-01b5-4733-f3b3-d495190b16ef",
        "executionInfo": {
          "status": "ok",
          "timestamp": 1531748428225,
          "user_tz": -330,
          "elapsed": 418042,
          "user": {
            "displayName": "Saloni Jain",
            "photoUrl": "https://lh3.googleusercontent.com/a/default-user=s128",
            "userId": "104379084192678848103"
          }
        }
      },
      "cell_type": "code",
      "source": [
        "model.fit_generator(train_gen,validation_data=test_gen,steps_per_epoch=len(x_train)/256,validation_steps=len(x_test)/256,epochs=10,verbose=1)"
      ],
      "execution_count": 28,
      "outputs": [
        {
          "output_type": "stream",
          "text": [
            "Epoch 1/10\n",
            "195/195 [==============================] - 43s 221ms/step - loss: 0.0171 - acc: 0.9952 - val_loss: 0.7763 - val_acc: 0.8756\n",
            "Epoch 2/10\n",
            "195/195 [==============================] - 42s 216ms/step - loss: 0.0192 - acc: 0.9944 - val_loss: 0.7787 - val_acc: 0.8732\n",
            "Epoch 3/10\n",
            " 87/195 [============>.................] - ETA: 21s - loss: 0.0176 - acc: 0.9952"
          ],
          "name": "stdout"
        },
        {
          "output_type": "stream",
          "text": [
            "195/195 [==============================] - 41s 208ms/step - loss: 0.0172 - acc: 0.9951 - val_loss: 0.8219 - val_acc: 0.8715\n",
            "Epoch 4/10\n",
            "195/195 [==============================] - 41s 212ms/step - loss: 0.0207 - acc: 0.9935 - val_loss: 0.7975 - val_acc: 0.8719\n",
            "Epoch 5/10\n",
            "125/195 [==================>...........] - ETA: 13s - loss: 0.0164 - acc: 0.9950"
          ],
          "name": "stdout"
        },
        {
          "output_type": "stream",
          "text": [
            "195/195 [==============================] - 41s 210ms/step - loss: 0.0162 - acc: 0.9952 - val_loss: 0.8045 - val_acc: 0.8736\n",
            "Epoch 6/10\n",
            "195/195 [==============================] - 41s 208ms/step - loss: 0.0138 - acc: 0.9956 - val_loss: 0.8925 - val_acc: 0.8687\n",
            "Epoch 7/10\n",
            "137/195 [====================>.........] - ETA: 11s - loss: 0.0155 - acc: 0.9959"
          ],
          "name": "stdout"
        },
        {
          "output_type": "stream",
          "text": [
            "195/195 [==============================] - 41s 209ms/step - loss: 0.0154 - acc: 0.9959 - val_loss: 0.9272 - val_acc: 0.8631\n",
            "Epoch 8/10\n",
            "195/195 [==============================] - 43s 220ms/step - loss: 0.0157 - acc: 0.9958 - val_loss: 0.8501 - val_acc: 0.8687\n",
            "Epoch 9/10\n",
            "128/195 [==================>...........] - ETA: 13s - loss: 0.0140 - acc: 0.9961"
          ],
          "name": "stdout"
        },
        {
          "output_type": "stream",
          "text": [
            "195/195 [==============================] - 43s 220ms/step - loss: 0.0132 - acc: 0.9963 - val_loss: 0.8561 - val_acc: 0.8731\n",
            "Epoch 10/10\n",
            "195/195 [==============================] - 42s 214ms/step - loss: 0.0138 - acc: 0.9961 - val_loss: 0.8958 - val_acc: 0.8695\n"
          ],
          "name": "stdout"
        },
        {
          "output_type": "execute_result",
          "data": {
            "text/plain": [
              "<keras.callbacks.History at 0x7fbe60a57c50>"
            ]
          },
          "metadata": {
            "tags": []
          },
          "execution_count": 28
        }
      ]
    },
    {
      "metadata": {
        "id": "784zBHZegJJs",
        "colab_type": "code",
        "colab": {
          "autoexec": {
            "startup": false,
            "wait_interval": 0
          },
          "base_uri": "https://localhost:8080/",
          "height": 2455
        },
        "outputId": "3bd6bbd4-5c51-4f61-b4da-0aa68ceda88d",
        "executionInfo": {
          "status": "ok",
          "timestamp": 1528711137226,
          "user_tz": -330,
          "elapsed": 971229,
          "user": {
            "displayName": "Saloni Jain",
            "photoUrl": "https://lh3.googleusercontent.com/a/default-user=s128",
            "userId": "104379084192678848103"
          }
        }
      },
      "cell_type": "code",
      "source": [
        "resnet34.fit_generator(train_gen,validation_data=test_gen,steps_per_epoch=len(x_train)/256,validation_steps=len(x_test)/256,epochs=15,verbose=1)"
      ],
      "execution_count": 29,
      "outputs": [
        {
          "output_type": "stream",
          "text": [
            "Epoch 1/15\n",
            "195/195 [==============================] - 65s 332ms/step - loss: 0.0248 - acc: 0.9920 - val_loss: 1.0256 - val_acc: 0.8142\n",
            "Epoch 2/15\n",
            "195/195 [==============================] - 65s 331ms/step - loss: 0.0217 - acc: 0.9933 - val_loss: 0.8001 - val_acc: 0.8452\n",
            "Epoch 3/15\n",
            "104/195 [===============>..............] - ETA: 28s - loss: 0.0180 - acc: 0.9938"
          ],
          "name": "stdout"
        },
        {
          "output_type": "stream",
          "text": [
            "195/195 [==============================] - 65s 331ms/step - loss: 0.0194 - acc: 0.9939 - val_loss: 1.0222 - val_acc: 0.8253\n",
            "Epoch 4/15\n",
            "195/195 [==============================] - 65s 332ms/step - loss: 0.0177 - acc: 0.9945 - val_loss: 0.8324 - val_acc: 0.8415\n",
            "Epoch 5/15\n",
            "143/195 [=====================>........] - ETA: 16s - loss: 0.0168 - acc: 0.9947"
          ],
          "name": "stdout"
        },
        {
          "output_type": "stream",
          "text": [
            "195/195 [==============================] - 64s 329ms/step - loss: 0.0165 - acc: 0.9949 - val_loss: 0.8208 - val_acc: 0.8447\n",
            "Epoch 6/15\n",
            "195/195 [==============================] - 64s 330ms/step - loss: 0.0156 - acc: 0.9955 - val_loss: 0.9789 - val_acc: 0.8278\n",
            "Epoch 7/15\n",
            "152/195 [======================>.......] - ETA: 13s - loss: 0.0173 - acc: 0.9947"
          ],
          "name": "stdout"
        },
        {
          "output_type": "stream",
          "text": [
            "195/195 [==============================] - 65s 332ms/step - loss: 0.0173 - acc: 0.9945 - val_loss: 0.8970 - val_acc: 0.8393\n",
            "Epoch 8/15\n",
            "195/195 [==============================] - 65s 332ms/step - loss: 0.0125 - acc: 0.9961 - val_loss: 0.8586 - val_acc: 0.8431\n",
            "Epoch 9/15\n",
            "154/195 [======================>.......] - ETA: 12s - loss: 0.0098 - acc: 0.9973"
          ],
          "name": "stdout"
        },
        {
          "output_type": "stream",
          "text": [
            "195/195 [==============================] - 65s 332ms/step - loss: 0.0094 - acc: 0.9974 - val_loss: 0.8837 - val_acc: 0.8451\n",
            "Epoch 10/15\n",
            "195/195 [==============================] - 65s 332ms/step - loss: 0.0126 - acc: 0.9962 - val_loss: 0.9296 - val_acc: 0.8341\n",
            "Epoch 11/15\n",
            "153/195 [======================>.......] - ETA: 13s - loss: 0.0105 - acc: 0.9971"
          ],
          "name": "stdout"
        },
        {
          "output_type": "stream",
          "text": [
            "195/195 [==============================] - 65s 332ms/step - loss: 0.0101 - acc: 0.9972 - val_loss: 0.8733 - val_acc: 0.8446\n",
            "Epoch 12/15\n",
            "195/195 [==============================] - 65s 332ms/step - loss: 0.0079 - acc: 0.9978 - val_loss: 0.9334 - val_acc: 0.8389\n",
            "Epoch 13/15\n",
            "153/195 [======================>.......] - ETA: 12s - loss: 0.0065 - acc: 0.9983"
          ],
          "name": "stdout"
        },
        {
          "output_type": "stream",
          "text": [
            "195/195 [==============================] - 65s 332ms/step - loss: 0.0065 - acc: 0.9983 - val_loss: 0.9006 - val_acc: 0.8446\n",
            "Epoch 14/15\n",
            "195/195 [==============================] - 65s 332ms/step - loss: 0.0084 - acc: 0.9978 - val_loss: 0.8981 - val_acc: 0.8477\n",
            "Epoch 15/15\n",
            "153/195 [======================>.......] - ETA: 12s - loss: 0.0045 - acc: 0.9991"
          ],
          "name": "stdout"
        },
        {
          "output_type": "stream",
          "text": [
            "195/195 [==============================] - 65s 332ms/step - loss: 0.0050 - acc: 0.9989 - val_loss: 0.9123 - val_acc: 0.8458\n"
          ],
          "name": "stdout"
        },
        {
          "output_type": "execute_result",
          "data": {
            "text/plain": [
              "<keras.callbacks.History at 0x7f7160e2b450>"
            ]
          },
          "metadata": {
            "tags": []
          },
          "execution_count": 29
        }
      ]
    },
    {
      "metadata": {
        "id": "4bYOVSu9xDTa",
        "colab_type": "code",
        "colab": {
          "autoexec": {
            "startup": false,
            "wait_interval": 0
          },
          "base_uri": "https://localhost:8080/",
          "height": 2645
        },
        "outputId": "d0989a2b-66b0-45cd-edfa-cb303c4c5f5b",
        "executionInfo": {
          "status": "ok",
          "timestamp": 1528712705782,
          "user_tz": -330,
          "elapsed": 968573,
          "user": {
            "displayName": "Saloni Jain",
            "photoUrl": "https://lh3.googleusercontent.com/a/default-user=s128",
            "userId": "104379084192678848103"
          }
        }
      },
      "cell_type": "code",
      "source": [
        "resnet34.fit_generator(train_gen,validation_data=test_gen,steps_per_epoch=len(x_train)/256,validation_steps=len(x_test)/256,epochs=15,verbose=1)"
      ],
      "execution_count": 31,
      "outputs": [
        {
          "output_type": "stream",
          "text": [
            "Epoch 1/15\n",
            "195/195 [==============================] - 65s 333ms/step - loss: 0.0034 - acc: 0.9993 - val_loss: 0.8947 - val_acc: 0.8536\n",
            "Epoch 2/15\n",
            "195/195 [==============================] - 65s 332ms/step - loss: 0.0031 - acc: 0.9994 - val_loss: 0.8973 - val_acc: 0.8494\n",
            "Epoch 3/15\n",
            "104/195 [===============>..............] - ETA: 28s - loss: 0.0023 - acc: 0.9996"
          ],
          "name": "stdout"
        },
        {
          "output_type": "stream",
          "text": [
            "195/195 [==============================] - 65s 333ms/step - loss: 0.0021 - acc: 0.9997 - val_loss: 0.8787 - val_acc: 0.8562\n",
            "Epoch 4/15\n",
            "195/195 [==============================] - 65s 332ms/step - loss: 0.0018 - acc: 0.9997 - val_loss: 0.8945 - val_acc: 0.8534\n",
            "Epoch 5/15\n",
            "143/195 [=====================>........] - ETA: 15s - loss: 0.0019 - acc: 0.9996"
          ],
          "name": "stdout"
        },
        {
          "output_type": "stream",
          "text": [
            "195/195 [==============================] - 64s 329ms/step - loss: 0.0018 - acc: 0.9996 - val_loss: 0.9130 - val_acc: 0.8540\n",
            "Epoch 6/15\n",
            "195/195 [==============================] - 64s 329ms/step - loss: 9.7837e-04 - acc: 0.9999 - val_loss: 0.8760 - val_acc: 0.8565\n",
            "Epoch 7/15\n",
            "147/195 [=====================>........] - ETA: 14s - loss: 9.9030e-04 - acc: 0.9999"
          ],
          "name": "stdout"
        },
        {
          "output_type": "stream",
          "text": [
            "195/195 [==============================] - 65s 332ms/step - loss: 9.3300e-04 - acc: 0.9999 - val_loss: 0.8935 - val_acc: 0.8558\n",
            "Epoch 8/15\n",
            "195/195 [==============================] - 65s 332ms/step - loss: 8.3467e-04 - acc: 1.0000 - val_loss: 0.8982 - val_acc: 0.8557\n",
            "Epoch 9/15\n",
            "143/195 [=====================>........] - ETA: 15s - loss: 6.1183e-04 - acc: 1.0000"
          ],
          "name": "stdout"
        },
        {
          "output_type": "stream",
          "text": [
            "195/195 [==============================] - 64s 326ms/step - loss: 5.9154e-04 - acc: 1.0000 - val_loss: 0.8911 - val_acc: 0.8582\n",
            "Epoch 10/15\n",
            "195/195 [==============================] - 64s 327ms/step - loss: 5.3548e-04 - acc: 1.0000 - val_loss: 0.8803 - val_acc: 0.8561\n",
            "Epoch 11/15\n",
            "141/195 [====================>.........] - ETA: 16s - loss: 5.4815e-04 - acc: 1.0000"
          ],
          "name": "stdout"
        },
        {
          "output_type": "stream",
          "text": [
            "195/195 [==============================] - 64s 331ms/step - loss: 5.2250e-04 - acc: 1.0000 - val_loss: 0.9188 - val_acc: 0.8590\n",
            "Epoch 12/15\n",
            "195/195 [==============================] - 64s 329ms/step - loss: 4.8260e-04 - acc: 1.0000 - val_loss: 0.8889 - val_acc: 0.8568\n",
            "Epoch 13/15\n",
            "140/195 [====================>.........] - ETA: 17s - loss: 4.9449e-04 - acc: 1.0000"
          ],
          "name": "stdout"
        },
        {
          "output_type": "stream",
          "text": [
            "195/195 [==============================] - 65s 332ms/step - loss: 4.9542e-04 - acc: 1.0000 - val_loss: 0.8876 - val_acc: 0.8575\n",
            "Epoch 14/15\n",
            "195/195 [==============================] - 65s 332ms/step - loss: 0.0012 - acc: 0.9998 - val_loss: 0.9170 - val_acc: 0.8526\n",
            "Epoch 15/15\n",
            "144/195 [=====================>........] - ETA: 15s - loss: 5.9299e-04 - acc: 1.0000"
          ],
          "name": "stdout"
        },
        {
          "output_type": "stream",
          "text": [
            "195/195 [==============================] - 65s 332ms/step - loss: 6.2380e-04 - acc: 1.0000 - val_loss: 0.9072 - val_acc: 0.8572\n"
          ],
          "name": "stdout"
        },
        {
          "output_type": "execute_result",
          "data": {
            "text/plain": [
              "<keras.callbacks.History at 0x7f715a95e450>"
            ]
          },
          "metadata": {
            "tags": []
          },
          "execution_count": 31
        }
      ]
    },
    {
      "metadata": {
        "id": "0Dps8PSmzoqR",
        "colab_type": "code",
        "colab": {
          "autoexec": {
            "startup": false,
            "wait_interval": 0
          },
          "base_uri": "https://localhost:8080/",
          "height": 2359
        },
        "outputId": "a60982a0-1f90-4407-b5da-85796977da9c"
      },
      "cell_type": "code",
      "source": [
        "resnet34.fit_generator(train_gen,validation_data=test_gen,steps_per_epoch=len(x_train)/256,validation_steps=len(x_test)/256,epochs=20,verbose=1)"
      ],
      "execution_count": 0,
      "outputs": [
        {
          "output_type": "stream",
          "text": [
            "Epoch 1/20\n",
            "195/195 [==============================] - 65s 333ms/step - loss: 4.1787e-04 - acc: 1.0000 - val_loss: 0.9019 - val_acc: 0.8575\n",
            "Epoch 2/20\n",
            "195/195 [==============================] - 65s 333ms/step - loss: 4.0950e-04 - acc: 1.0000 - val_loss: 0.8976 - val_acc: 0.8626\n",
            "Epoch 3/20\n",
            " 94/195 [=============>................] - ETA: 31s - loss: 3.6737e-04 - acc: 1.0000"
          ],
          "name": "stdout"
        },
        {
          "output_type": "stream",
          "text": [
            "195/195 [==============================] - 65s 332ms/step - loss: 3.7145e-04 - acc: 1.0000 - val_loss: 0.9229 - val_acc: 0.8593\n",
            "Epoch 4/20\n",
            "195/195 [==============================] - 65s 332ms/step - loss: 6.1552e-04 - acc: 0.9999 - val_loss: 0.9344 - val_acc: 0.8575\n",
            "Epoch 5/20\n",
            "131/195 [===================>..........] - ETA: 19s - loss: 4.4524e-04 - acc: 1.0000"
          ],
          "name": "stdout"
        },
        {
          "output_type": "stream",
          "text": [
            "195/195 [==============================] - 65s 333ms/step - loss: 4.5950e-04 - acc: 1.0000 - val_loss: 0.9228 - val_acc: 0.8564\n",
            "Epoch 6/20\n",
            "195/195 [==============================] - 65s 332ms/step - loss: 4.8111e-04 - acc: 1.0000 - val_loss: 0.9260 - val_acc: 0.8538\n",
            "Epoch 7/20\n",
            "140/195 [====================>.........] - ETA: 17s - loss: 4.7697e-04 - acc: 1.0000"
          ],
          "name": "stdout"
        },
        {
          "output_type": "stream",
          "text": [
            "195/195 [==============================] - 65s 332ms/step - loss: 4.2727e-04 - acc: 1.0000 - val_loss: 0.9469 - val_acc: 0.8551\n",
            "Epoch 8/20\n",
            "195/195 [==============================] - 65s 332ms/step - loss: 3.6268e-04 - acc: 1.0000 - val_loss: 0.9178 - val_acc: 0.8545\n",
            "Epoch 9/20\n",
            "141/195 [====================>.........] - ETA: 16s - loss: 3.1579e-04 - acc: 1.0000"
          ],
          "name": "stdout"
        },
        {
          "output_type": "stream",
          "text": [
            "195/195 [==============================] - 64s 328ms/step - loss: 3.1671e-04 - acc: 1.0000 - val_loss: 0.9048 - val_acc: 0.8591\n",
            "Epoch 10/20\n",
            "195/195 [==============================] - 64s 327ms/step - loss: 2.7627e-04 - acc: 1.0000 - val_loss: 0.9461 - val_acc: 0.8533\n",
            "Epoch 11/20\n",
            "141/195 [====================>.........] - ETA: 16s - loss: 6.1395e-04 - acc: 0.9999"
          ],
          "name": "stdout"
        },
        {
          "output_type": "stream",
          "text": [
            "195/195 [==============================] - 64s 327ms/step - loss: 5.8010e-04 - acc: 0.9999 - val_loss: 0.9521 - val_acc: 0.8574\n",
            "Epoch 12/20\n",
            "195/195 [==============================] - 64s 330ms/step - loss: 3.2594e-04 - acc: 1.0000 - val_loss: 0.9423 - val_acc: 0.8585\n",
            "Epoch 13/20\n",
            "140/195 [====================>.........] - ETA: 17s - loss: 2.9423e-04 - acc: 1.0000"
          ],
          "name": "stdout"
        },
        {
          "output_type": "stream",
          "text": [
            "195/195 [==============================] - 65s 333ms/step - loss: 2.9134e-04 - acc: 1.0000 - val_loss: 0.9457 - val_acc: 0.8574\n",
            "Epoch 14/20\n",
            "195/195 [==============================] - 65s 331ms/step - loss: 2.4101e-04 - acc: 1.0000 - val_loss: 0.9392 - val_acc: 0.8567\n",
            "Epoch 15/20\n",
            " 68/195 [=========>....................] - ETA: 39s - loss: 2.3387e-04 - acc: 1.0000"
          ],
          "name": "stdout"
        }
      ]
    },
    {
      "metadata": {
        "id": "qk-tQVc-ZQDW",
        "colab_type": "code",
        "colab": {
          "autoexec": {
            "startup": false,
            "wait_interval": 0
          },
          "base_uri": "https://localhost:8080/",
          "height": 3245
        },
        "outputId": "85579ec7-428c-45de-9cdc-ea02c0de4761",
        "executionInfo": {
          "status": "ok",
          "timestamp": 1528717917399,
          "user_tz": -330,
          "elapsed": 1287828,
          "user": {
            "displayName": "Saloni Jain",
            "photoUrl": "https://lh3.googleusercontent.com/a/default-user=s128",
            "userId": "104379084192678848103"
          }
        }
      },
      "cell_type": "code",
      "source": [
        "resnet34.fit_generator(train_gen,validation_data=test_gen,steps_per_epoch=len(x_train)/256,validation_steps=len(x_test)/256,epochs=20,verbose=1)"
      ],
      "execution_count": 34,
      "outputs": [
        {
          "output_type": "stream",
          "text": [
            "Epoch 1/20\n",
            "195/195 [==============================] - 64s 330ms/step - loss: 1.6122e-04 - acc: 1.0000 - val_loss: 0.9262 - val_acc: 0.8583\n",
            "Epoch 2/20\n",
            "195/195 [==============================] - 64s 330ms/step - loss: 1.8567e-04 - acc: 1.0000 - val_loss: 0.9501 - val_acc: 0.8579\n",
            "Epoch 3/20\n",
            " 94/195 [=============>................] - ETA: 30s - loss: 2.4403e-04 - acc: 1.0000"
          ],
          "name": "stdout"
        },
        {
          "output_type": "stream",
          "text": [
            "195/195 [==============================] - 64s 326ms/step - loss: 2.2040e-04 - acc: 1.0000 - val_loss: 0.9374 - val_acc: 0.8567\n",
            "Epoch 4/20\n",
            "195/195 [==============================] - 64s 330ms/step - loss: 1.8332e-04 - acc: 1.0000 - val_loss: 0.9325 - val_acc: 0.8586\n",
            "Epoch 5/20\n",
            "131/195 [===================>..........] - ETA: 19s - loss: 1.7314e-04 - acc: 1.0000"
          ],
          "name": "stdout"
        },
        {
          "output_type": "stream",
          "text": [
            "195/195 [==============================] - 64s 329ms/step - loss: 1.7265e-04 - acc: 1.0000 - val_loss: 0.9439 - val_acc: 0.8567\n",
            "Epoch 6/20\n",
            "195/195 [==============================] - 64s 329ms/step - loss: 1.5886e-04 - acc: 1.0000 - val_loss: 0.9559 - val_acc: 0.8569\n",
            "Epoch 7/20\n",
            "139/195 [====================>.........] - ETA: 17s - loss: 2.4571e-04 - acc: 1.0000"
          ],
          "name": "stdout"
        },
        {
          "output_type": "stream",
          "text": [
            "195/195 [==============================] - 64s 330ms/step - loss: 2.2773e-04 - acc: 1.0000 - val_loss: 0.9375 - val_acc: 0.8590\n",
            "Epoch 8/20\n",
            "195/195 [==============================] - 64s 327ms/step - loss: 9.2803e-04 - acc: 0.9999 - val_loss: 0.9617 - val_acc: 0.8545\n",
            "Epoch 9/20\n",
            "143/195 [=====================>........] - ETA: 15s - loss: 3.5427e-04 - acc: 1.0000"
          ],
          "name": "stdout"
        },
        {
          "output_type": "stream",
          "text": [
            "195/195 [==============================] - 64s 329ms/step - loss: 3.2067e-04 - acc: 1.0000 - val_loss: 0.9478 - val_acc: 0.8571\n",
            "Epoch 10/20\n",
            "195/195 [==============================] - 64s 327ms/step - loss: 4.0010e-04 - acc: 0.9999 - val_loss: 1.0621 - val_acc: 0.8444\n",
            "Epoch 11/20\n",
            "141/195 [====================>.........] - ETA: 16s - loss: 3.2264e-04 - acc: 1.0000"
          ],
          "name": "stdout"
        },
        {
          "output_type": "stream",
          "text": [
            "195/195 [==============================] - 64s 327ms/step - loss: 3.1245e-04 - acc: 1.0000 - val_loss: 0.9734 - val_acc: 0.8576\n",
            "Epoch 12/20\n",
            "195/195 [==============================] - 65s 332ms/step - loss: 8.1266e-04 - acc: 0.9998 - val_loss: 0.9816 - val_acc: 0.8523\n",
            "Epoch 13/20\n",
            "141/195 [====================>.........] - ETA: 16s - loss: 4.0561e-04 - acc: 1.0000"
          ],
          "name": "stdout"
        },
        {
          "output_type": "stream",
          "text": [
            "195/195 [==============================] - 64s 329ms/step - loss: 3.9414e-04 - acc: 1.0000 - val_loss: 0.9575 - val_acc: 0.8560\n",
            "Epoch 14/20\n",
            "195/195 [==============================] - 65s 332ms/step - loss: 2.5020e-04 - acc: 1.0000 - val_loss: 0.9718 - val_acc: 0.8552\n",
            "Epoch 15/20\n",
            "140/195 [====================>.........] - ETA: 17s - loss: 2.2314e-04 - acc: 1.0000"
          ],
          "name": "stdout"
        },
        {
          "output_type": "stream",
          "text": [
            "195/195 [==============================] - 65s 333ms/step - loss: 2.1825e-04 - acc: 1.0000 - val_loss: 0.9700 - val_acc: 0.8570\n",
            "Epoch 16/20\n",
            "195/195 [==============================] - 64s 330ms/step - loss: 2.1104e-04 - acc: 1.0000 - val_loss: 0.9467 - val_acc: 0.8575\n",
            "Epoch 17/20\n",
            "140/195 [====================>.........] - ETA: 16s - loss: 1.8078e-04 - acc: 1.0000"
          ],
          "name": "stdout"
        },
        {
          "output_type": "stream",
          "text": [
            "195/195 [==============================] - 65s 331ms/step - loss: 1.9524e-04 - acc: 1.0000 - val_loss: 0.9487 - val_acc: 0.8575\n",
            "Epoch 18/20\n",
            "195/195 [==============================] - 65s 331ms/step - loss: 1.9473e-04 - acc: 1.0000 - val_loss: 0.9380 - val_acc: 0.8583\n",
            "Epoch 19/20\n",
            "140/195 [====================>.........] - ETA: 16s - loss: 1.6294e-04 - acc: 1.0000"
          ],
          "name": "stdout"
        },
        {
          "output_type": "stream",
          "text": [
            "195/195 [==============================] - 65s 331ms/step - loss: 1.7188e-04 - acc: 1.0000 - val_loss: 0.9611 - val_acc: 0.8578\n",
            "Epoch 20/20\n",
            "195/195 [==============================] - 65s 332ms/step - loss: 1.7350e-04 - acc: 1.0000 - val_loss: 0.9833 - val_acc: 0.8562\n"
          ],
          "name": "stdout"
        },
        {
          "output_type": "execute_result",
          "data": {
            "text/plain": [
              "<keras.callbacks.History at 0x7f7160eeaa90>"
            ]
          },
          "metadata": {
            "tags": []
          },
          "execution_count": 34
        }
      ]
    },
    {
      "metadata": {
        "id": "9JLM7fRwnJX_",
        "colab_type": "code",
        "colab": {
          "autoexec": {
            "startup": false,
            "wait_interval": 0
          }
        }
      },
      "cell_type": "code",
      "source": [
        ""
      ],
      "execution_count": 0,
      "outputs": []
    }
  ]
}